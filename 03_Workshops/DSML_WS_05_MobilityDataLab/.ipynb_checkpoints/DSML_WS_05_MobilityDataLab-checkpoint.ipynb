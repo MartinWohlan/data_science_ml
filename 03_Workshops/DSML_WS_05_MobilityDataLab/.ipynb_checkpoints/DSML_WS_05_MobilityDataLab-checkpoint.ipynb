{
 "cells": [
  {
   "cell_type": "markdown",
   "metadata": {},
   "source": [
    "# `DSML Workshop 05` - Hands on Data Science with real-world geotagged data\n",
    "\n",
    "In this lecture we dive into an excerpt of Car2Go data from the city of Stuttgart (STR). We will work hands-on with the dataset. At the end of this session you should:\n",
    "\n",
    "- Understand the dataset and be able to query, analyze and plot it\n",
    "- Do basic geographical plots in folium\n",
    "- Understand the business case behind Virtual Power Plants and how they interact with the ancillary services markets\n",
    "- Understand the prediction and operational challenges behind operating EV-based VPPs and discuss some of the possible approaches behind tackling these challenges."
   ]
  },
  {
   "cell_type": "markdown",
   "metadata": {},
   "source": [
    "## `Data exploration`"
   ]
  },
  {
   "cell_type": "markdown",
   "metadata": {},
   "source": [
    "### 1.1. General overview and data understanding\n",
    "\n",
    "To keep size manageable we have uploaded a 2-week data snippet of Car2Go movement data from the city of Stuttgart (STR). We use data from November, 2017. In the interest of time we have done a lot of the pre-processing for you. Simply execute the code below to read in the data in the desired format."
   ]
  },
  {
   "cell_type": "code",
   "execution_count": 1,
   "metadata": {},
   "outputs": [],
   "source": [
    "# import all relevant libraries\n",
    "\n",
    "import pandas as pd\n",
    "import numpy as np\n",
    "import matplotlib.pyplot as plt\n",
    "from pandas.plotting import register_matplotlib_converters\n",
    "register_matplotlib_converters()\n",
    "import seaborn as sns\n",
    "sns.set()\n",
    "sns.set_style(\"white\")\n",
    "sns.set_palette(\"GnBu_d\")\n",
    "\n",
    "# also import these \"new\" libraries \n",
    "# Note: you may have to download an add them to your environment (using e.g. 'conda install -c conda-forge folium')\n",
    "\n",
    "import folium\n",
    "from folium import plugins\n",
    "from folium.plugins import HeatMap\n",
    "from datetime import datetime #for working with times objects\n",
    "from datetime import timedelta #for working with times objects\n",
    "import math\n",
    "import random\n",
    "#import timeit"
   ]
  },
  {
   "cell_type": "code",
   "execution_count": 2,
   "metadata": {},
   "outputs": [
    {
     "ename": "FileNotFoundError",
     "evalue": "[Errno 2] No such file or directory: 'Car2Go_STR_SampleData.csv'",
     "output_type": "error",
     "traceback": [
      "\u001b[0;31m---------------------------------------------------------------------------\u001b[0m",
      "\u001b[0;31mFileNotFoundError\u001b[0m                         Traceback (most recent call last)",
      "\u001b[0;32m<ipython-input-2-e0e6116b6efb>\u001b[0m in \u001b[0;36m<module>\u001b[0;34m\u001b[0m\n\u001b[0;32m----> 1\u001b[0;31m \u001b[0mSTR_Nov\u001b[0m \u001b[0;34m=\u001b[0m \u001b[0mpd\u001b[0m\u001b[0;34m.\u001b[0m\u001b[0mread_csv\u001b[0m\u001b[0;34m(\u001b[0m\u001b[0;34m\"Car2Go_STR_SampleData.csv\"\u001b[0m\u001b[0;34m,\u001b[0m \u001b[0mencoding\u001b[0m \u001b[0;34m=\u001b[0m \u001b[0;34m\"ISO-8859-1\"\u001b[0m\u001b[0;34m)\u001b[0m\u001b[0;34m\u001b[0m\u001b[0;34m\u001b[0m\u001b[0m\n\u001b[0m\u001b[1;32m      2\u001b[0m \u001b[0mSTR_Nov\u001b[0m\u001b[0;34m.\u001b[0m\u001b[0msort_values\u001b[0m\u001b[0;34m(\u001b[0m\u001b[0;34m[\u001b[0m\u001b[0;34m\"car ID\"\u001b[0m\u001b[0;34m,\u001b[0m\u001b[0;34m\"timestamp\"\u001b[0m\u001b[0;34m]\u001b[0m\u001b[0;34m,\u001b[0m \u001b[0minplace\u001b[0m\u001b[0;34m=\u001b[0m\u001b[0;32mTrue\u001b[0m\u001b[0;34m)\u001b[0m\u001b[0;34m\u001b[0m\u001b[0;34m\u001b[0m\u001b[0m\n\u001b[1;32m      3\u001b[0m \u001b[0mSTR_Nov\u001b[0m\u001b[0;34m.\u001b[0m\u001b[0mset_index\u001b[0m\u001b[0;34m(\u001b[0m\u001b[0mpd\u001b[0m\u001b[0;34m.\u001b[0m\u001b[0mDatetimeIndex\u001b[0m\u001b[0;34m(\u001b[0m\u001b[0mSTR_Nov\u001b[0m\u001b[0;34m[\u001b[0m\u001b[0;34m\"timestamp\"\u001b[0m\u001b[0;34m]\u001b[0m\u001b[0;34m)\u001b[0m\u001b[0;34m,\u001b[0m\u001b[0minplace\u001b[0m\u001b[0;34m=\u001b[0m\u001b[0;32mTrue\u001b[0m\u001b[0;34m)\u001b[0m\u001b[0;34m\u001b[0m\u001b[0;34m\u001b[0m\u001b[0m\n\u001b[1;32m      4\u001b[0m \u001b[0mSTR_Nov\u001b[0m\u001b[0;34m.\u001b[0m\u001b[0mdrop\u001b[0m\u001b[0;34m(\u001b[0m\u001b[0;34m\"timestamp\"\u001b[0m\u001b[0;34m,\u001b[0m \u001b[0maxis\u001b[0m\u001b[0;34m=\u001b[0m\u001b[0;36m1\u001b[0m\u001b[0;34m,\u001b[0m \u001b[0minplace\u001b[0m\u001b[0;34m=\u001b[0m\u001b[0;32mTrue\u001b[0m\u001b[0;34m)\u001b[0m\u001b[0;34m\u001b[0m\u001b[0;34m\u001b[0m\u001b[0m\n",
      "\u001b[0;32m~/opt/anaconda3/lib/python3.8/site-packages/pandas/util/_decorators.py\u001b[0m in \u001b[0;36mwrapper\u001b[0;34m(*args, **kwargs)\u001b[0m\n\u001b[1;32m    309\u001b[0m                     \u001b[0mstacklevel\u001b[0m\u001b[0;34m=\u001b[0m\u001b[0mstacklevel\u001b[0m\u001b[0;34m,\u001b[0m\u001b[0;34m\u001b[0m\u001b[0;34m\u001b[0m\u001b[0m\n\u001b[1;32m    310\u001b[0m                 )\n\u001b[0;32m--> 311\u001b[0;31m             \u001b[0;32mreturn\u001b[0m \u001b[0mfunc\u001b[0m\u001b[0;34m(\u001b[0m\u001b[0;34m*\u001b[0m\u001b[0margs\u001b[0m\u001b[0;34m,\u001b[0m \u001b[0;34m**\u001b[0m\u001b[0mkwargs\u001b[0m\u001b[0;34m)\u001b[0m\u001b[0;34m\u001b[0m\u001b[0;34m\u001b[0m\u001b[0m\n\u001b[0m\u001b[1;32m    312\u001b[0m \u001b[0;34m\u001b[0m\u001b[0m\n\u001b[1;32m    313\u001b[0m         \u001b[0;32mreturn\u001b[0m \u001b[0mwrapper\u001b[0m\u001b[0;34m\u001b[0m\u001b[0;34m\u001b[0m\u001b[0m\n",
      "\u001b[0;32m~/opt/anaconda3/lib/python3.8/site-packages/pandas/io/parsers/readers.py\u001b[0m in \u001b[0;36mread_csv\u001b[0;34m(filepath_or_buffer, sep, delimiter, header, names, index_col, usecols, squeeze, prefix, mangle_dupe_cols, dtype, engine, converters, true_values, false_values, skipinitialspace, skiprows, skipfooter, nrows, na_values, keep_default_na, na_filter, verbose, skip_blank_lines, parse_dates, infer_datetime_format, keep_date_col, date_parser, dayfirst, cache_dates, iterator, chunksize, compression, thousands, decimal, lineterminator, quotechar, quoting, doublequote, escapechar, comment, encoding, encoding_errors, dialect, error_bad_lines, warn_bad_lines, on_bad_lines, delim_whitespace, low_memory, memory_map, float_precision, storage_options)\u001b[0m\n\u001b[1;32m    584\u001b[0m     \u001b[0mkwds\u001b[0m\u001b[0;34m.\u001b[0m\u001b[0mupdate\u001b[0m\u001b[0;34m(\u001b[0m\u001b[0mkwds_defaults\u001b[0m\u001b[0;34m)\u001b[0m\u001b[0;34m\u001b[0m\u001b[0;34m\u001b[0m\u001b[0m\n\u001b[1;32m    585\u001b[0m \u001b[0;34m\u001b[0m\u001b[0m\n\u001b[0;32m--> 586\u001b[0;31m     \u001b[0;32mreturn\u001b[0m \u001b[0m_read\u001b[0m\u001b[0;34m(\u001b[0m\u001b[0mfilepath_or_buffer\u001b[0m\u001b[0;34m,\u001b[0m \u001b[0mkwds\u001b[0m\u001b[0;34m)\u001b[0m\u001b[0;34m\u001b[0m\u001b[0;34m\u001b[0m\u001b[0m\n\u001b[0m\u001b[1;32m    587\u001b[0m \u001b[0;34m\u001b[0m\u001b[0m\n\u001b[1;32m    588\u001b[0m \u001b[0;34m\u001b[0m\u001b[0m\n",
      "\u001b[0;32m~/opt/anaconda3/lib/python3.8/site-packages/pandas/io/parsers/readers.py\u001b[0m in \u001b[0;36m_read\u001b[0;34m(filepath_or_buffer, kwds)\u001b[0m\n\u001b[1;32m    480\u001b[0m \u001b[0;34m\u001b[0m\u001b[0m\n\u001b[1;32m    481\u001b[0m     \u001b[0;31m# Create the parser.\u001b[0m\u001b[0;34m\u001b[0m\u001b[0;34m\u001b[0m\u001b[0;34m\u001b[0m\u001b[0m\n\u001b[0;32m--> 482\u001b[0;31m     \u001b[0mparser\u001b[0m \u001b[0;34m=\u001b[0m \u001b[0mTextFileReader\u001b[0m\u001b[0;34m(\u001b[0m\u001b[0mfilepath_or_buffer\u001b[0m\u001b[0;34m,\u001b[0m \u001b[0;34m**\u001b[0m\u001b[0mkwds\u001b[0m\u001b[0;34m)\u001b[0m\u001b[0;34m\u001b[0m\u001b[0;34m\u001b[0m\u001b[0m\n\u001b[0m\u001b[1;32m    483\u001b[0m \u001b[0;34m\u001b[0m\u001b[0m\n\u001b[1;32m    484\u001b[0m     \u001b[0;32mif\u001b[0m \u001b[0mchunksize\u001b[0m \u001b[0;32mor\u001b[0m \u001b[0miterator\u001b[0m\u001b[0;34m:\u001b[0m\u001b[0;34m\u001b[0m\u001b[0;34m\u001b[0m\u001b[0m\n",
      "\u001b[0;32m~/opt/anaconda3/lib/python3.8/site-packages/pandas/io/parsers/readers.py\u001b[0m in \u001b[0;36m__init__\u001b[0;34m(self, f, engine, **kwds)\u001b[0m\n\u001b[1;32m    809\u001b[0m             \u001b[0mself\u001b[0m\u001b[0;34m.\u001b[0m\u001b[0moptions\u001b[0m\u001b[0;34m[\u001b[0m\u001b[0;34m\"has_index_names\"\u001b[0m\u001b[0;34m]\u001b[0m \u001b[0;34m=\u001b[0m \u001b[0mkwds\u001b[0m\u001b[0;34m[\u001b[0m\u001b[0;34m\"has_index_names\"\u001b[0m\u001b[0;34m]\u001b[0m\u001b[0;34m\u001b[0m\u001b[0;34m\u001b[0m\u001b[0m\n\u001b[1;32m    810\u001b[0m \u001b[0;34m\u001b[0m\u001b[0m\n\u001b[0;32m--> 811\u001b[0;31m         \u001b[0mself\u001b[0m\u001b[0;34m.\u001b[0m\u001b[0m_engine\u001b[0m \u001b[0;34m=\u001b[0m \u001b[0mself\u001b[0m\u001b[0;34m.\u001b[0m\u001b[0m_make_engine\u001b[0m\u001b[0;34m(\u001b[0m\u001b[0mself\u001b[0m\u001b[0;34m.\u001b[0m\u001b[0mengine\u001b[0m\u001b[0;34m)\u001b[0m\u001b[0;34m\u001b[0m\u001b[0;34m\u001b[0m\u001b[0m\n\u001b[0m\u001b[1;32m    812\u001b[0m \u001b[0;34m\u001b[0m\u001b[0m\n\u001b[1;32m    813\u001b[0m     \u001b[0;32mdef\u001b[0m \u001b[0mclose\u001b[0m\u001b[0;34m(\u001b[0m\u001b[0mself\u001b[0m\u001b[0;34m)\u001b[0m\u001b[0;34m:\u001b[0m\u001b[0;34m\u001b[0m\u001b[0;34m\u001b[0m\u001b[0m\n",
      "\u001b[0;32m~/opt/anaconda3/lib/python3.8/site-packages/pandas/io/parsers/readers.py\u001b[0m in \u001b[0;36m_make_engine\u001b[0;34m(self, engine)\u001b[0m\n\u001b[1;32m   1038\u001b[0m             )\n\u001b[1;32m   1039\u001b[0m         \u001b[0;31m# error: Too many arguments for \"ParserBase\"\u001b[0m\u001b[0;34m\u001b[0m\u001b[0;34m\u001b[0m\u001b[0;34m\u001b[0m\u001b[0m\n\u001b[0;32m-> 1040\u001b[0;31m         \u001b[0;32mreturn\u001b[0m \u001b[0mmapping\u001b[0m\u001b[0;34m[\u001b[0m\u001b[0mengine\u001b[0m\u001b[0;34m]\u001b[0m\u001b[0;34m(\u001b[0m\u001b[0mself\u001b[0m\u001b[0;34m.\u001b[0m\u001b[0mf\u001b[0m\u001b[0;34m,\u001b[0m \u001b[0;34m**\u001b[0m\u001b[0mself\u001b[0m\u001b[0;34m.\u001b[0m\u001b[0moptions\u001b[0m\u001b[0;34m)\u001b[0m  \u001b[0;31m# type: ignore[call-arg]\u001b[0m\u001b[0;34m\u001b[0m\u001b[0;34m\u001b[0m\u001b[0m\n\u001b[0m\u001b[1;32m   1041\u001b[0m \u001b[0;34m\u001b[0m\u001b[0m\n\u001b[1;32m   1042\u001b[0m     \u001b[0;32mdef\u001b[0m \u001b[0m_failover_to_python\u001b[0m\u001b[0;34m(\u001b[0m\u001b[0mself\u001b[0m\u001b[0;34m)\u001b[0m\u001b[0;34m:\u001b[0m\u001b[0;34m\u001b[0m\u001b[0;34m\u001b[0m\u001b[0m\n",
      "\u001b[0;32m~/opt/anaconda3/lib/python3.8/site-packages/pandas/io/parsers/c_parser_wrapper.py\u001b[0m in \u001b[0;36m__init__\u001b[0;34m(self, src, **kwds)\u001b[0m\n\u001b[1;32m     49\u001b[0m \u001b[0;34m\u001b[0m\u001b[0m\n\u001b[1;32m     50\u001b[0m         \u001b[0;31m# open handles\u001b[0m\u001b[0;34m\u001b[0m\u001b[0;34m\u001b[0m\u001b[0;34m\u001b[0m\u001b[0m\n\u001b[0;32m---> 51\u001b[0;31m         \u001b[0mself\u001b[0m\u001b[0;34m.\u001b[0m\u001b[0m_open_handles\u001b[0m\u001b[0;34m(\u001b[0m\u001b[0msrc\u001b[0m\u001b[0;34m,\u001b[0m \u001b[0mkwds\u001b[0m\u001b[0;34m)\u001b[0m\u001b[0;34m\u001b[0m\u001b[0;34m\u001b[0m\u001b[0m\n\u001b[0m\u001b[1;32m     52\u001b[0m         \u001b[0;32massert\u001b[0m \u001b[0mself\u001b[0m\u001b[0;34m.\u001b[0m\u001b[0mhandles\u001b[0m \u001b[0;32mis\u001b[0m \u001b[0;32mnot\u001b[0m \u001b[0;32mNone\u001b[0m\u001b[0;34m\u001b[0m\u001b[0;34m\u001b[0m\u001b[0m\n\u001b[1;32m     53\u001b[0m \u001b[0;34m\u001b[0m\u001b[0m\n",
      "\u001b[0;32m~/opt/anaconda3/lib/python3.8/site-packages/pandas/io/parsers/base_parser.py\u001b[0m in \u001b[0;36m_open_handles\u001b[0;34m(self, src, kwds)\u001b[0m\n\u001b[1;32m    220\u001b[0m         \u001b[0mLet\u001b[0m \u001b[0mthe\u001b[0m \u001b[0mreaders\u001b[0m \u001b[0mopen\u001b[0m \u001b[0mIOHandles\u001b[0m \u001b[0mafter\u001b[0m \u001b[0mthey\u001b[0m \u001b[0mare\u001b[0m \u001b[0mdone\u001b[0m \u001b[0;32mwith\u001b[0m \u001b[0mtheir\u001b[0m \u001b[0mpotential\u001b[0m \u001b[0mraises\u001b[0m\u001b[0;34m.\u001b[0m\u001b[0;34m\u001b[0m\u001b[0;34m\u001b[0m\u001b[0m\n\u001b[1;32m    221\u001b[0m         \"\"\"\n\u001b[0;32m--> 222\u001b[0;31m         self.handles = get_handle(\n\u001b[0m\u001b[1;32m    223\u001b[0m             \u001b[0msrc\u001b[0m\u001b[0;34m,\u001b[0m\u001b[0;34m\u001b[0m\u001b[0;34m\u001b[0m\u001b[0m\n\u001b[1;32m    224\u001b[0m             \u001b[0;34m\"r\"\u001b[0m\u001b[0;34m,\u001b[0m\u001b[0;34m\u001b[0m\u001b[0;34m\u001b[0m\u001b[0m\n",
      "\u001b[0;32m~/opt/anaconda3/lib/python3.8/site-packages/pandas/io/common.py\u001b[0m in \u001b[0;36mget_handle\u001b[0;34m(path_or_buf, mode, encoding, compression, memory_map, is_text, errors, storage_options)\u001b[0m\n\u001b[1;32m    699\u001b[0m         \u001b[0;32mif\u001b[0m \u001b[0mioargs\u001b[0m\u001b[0;34m.\u001b[0m\u001b[0mencoding\u001b[0m \u001b[0;32mand\u001b[0m \u001b[0;34m\"b\"\u001b[0m \u001b[0;32mnot\u001b[0m \u001b[0;32min\u001b[0m \u001b[0mioargs\u001b[0m\u001b[0;34m.\u001b[0m\u001b[0mmode\u001b[0m\u001b[0;34m:\u001b[0m\u001b[0;34m\u001b[0m\u001b[0;34m\u001b[0m\u001b[0m\n\u001b[1;32m    700\u001b[0m             \u001b[0;31m# Encoding\u001b[0m\u001b[0;34m\u001b[0m\u001b[0;34m\u001b[0m\u001b[0;34m\u001b[0m\u001b[0m\n\u001b[0;32m--> 701\u001b[0;31m             handle = open(\n\u001b[0m\u001b[1;32m    702\u001b[0m                 \u001b[0mhandle\u001b[0m\u001b[0;34m,\u001b[0m\u001b[0;34m\u001b[0m\u001b[0;34m\u001b[0m\u001b[0m\n\u001b[1;32m    703\u001b[0m                 \u001b[0mioargs\u001b[0m\u001b[0;34m.\u001b[0m\u001b[0mmode\u001b[0m\u001b[0;34m,\u001b[0m\u001b[0;34m\u001b[0m\u001b[0;34m\u001b[0m\u001b[0m\n",
      "\u001b[0;31mFileNotFoundError\u001b[0m: [Errno 2] No such file or directory: 'Car2Go_STR_SampleData.csv'"
     ]
    }
   ],
   "source": [
    "STR_Nov = pd.read_csv(\"Car2Go_STR_SampleData.csv\", encoding = \"ISO-8859-1\")\n",
    "STR_Nov.sort_values([\"car ID\",\"timestamp\"], inplace=True)\n",
    "STR_Nov.set_index(pd.DatetimeIndex(STR_Nov[\"timestamp\"]),inplace=True)\n",
    "STR_Nov.drop(\"timestamp\", axis=1, inplace=True)"
   ]
  },
  {
   "cell_type": "code",
   "execution_count": null,
   "metadata": {},
   "outputs": [],
   "source": [
    "STR_Nov.head()"
   ]
  },
  {
   "cell_type": "code",
   "execution_count": null,
   "metadata": {},
   "outputs": [],
   "source": [
    "# Let's map time of day and day of week to our DF\n",
    "\n",
    "def get_date (ts):\n",
    "    return ts.date()\n",
    "\n",
    "def get_weekday (ts):\n",
    "    return ts.weekday()\n",
    "\n",
    "def get_hour (ts):\n",
    "    return ts.hour"
   ]
  },
  {
   "cell_type": "markdown",
   "metadata": {},
   "source": [
    "For this we will be using `lambda` in combination with `.apply()`a very powerful combination for row-wise operations which allows you to apply any  self-defined function to an element in a df."
   ]
  },
  {
   "cell_type": "code",
   "execution_count": null,
   "metadata": {},
   "outputs": [],
   "source": [
    "STR_Nov.reset_index(inplace=True)\n",
    "STR_Nov[\"Date\"] = STR_Nov[\"timestamp\"].apply(lambda ts: get_date (ts))\n",
    "STR_Nov[\"Weekday\"]=STR_Nov[\"timestamp\"].apply(lambda x: get_weekday (x))\n",
    "STR_Nov[\"Hour\"]=STR_Nov[\"timestamp\"].apply(lambda x: get_hour (x))"
   ]
  },
  {
   "cell_type": "code",
   "execution_count": null,
   "metadata": {},
   "outputs": [],
   "source": [
    "STR_Nov.head(20)"
   ]
  },
  {
   "cell_type": "code",
   "execution_count": null,
   "metadata": {},
   "outputs": [],
   "source": [
    "#weeday_dict = {0:\"Mon\",1:\"Tue\",2:\"Wed\"....}"
   ]
  },
  {
   "cell_type": "code",
   "execution_count": null,
   "metadata": {},
   "outputs": [],
   "source": [
    "#weeday_dict[2]"
   ]
  },
  {
   "cell_type": "code",
   "execution_count": null,
   "metadata": {},
   "outputs": [],
   "source": [
    "#STR_Nov[\"Weekday_verbose\"] = STR_Nov[\"Weekday\"].apply(lambda x: weeday_dict[x])"
   ]
  },
  {
   "cell_type": "markdown",
   "metadata": {},
   "source": [
    "### Task: What do you observe? <br>\n",
    "\n",
    "- Play around with the above dataframe trying using commands such as `df.head()`, `df.describe()` or `df.info()`\n",
    "- What data is gathered, for what period, in what format and at which frequency?\n",
    "- How do you explain the sudden jumps in the time-stamp?\n",
    "- What can you infer about the status of each car?"
   ]
  },
  {
   "cell_type": "code",
   "execution_count": null,
   "metadata": {},
   "outputs": [],
   "source": [
    "### YOUR CODE HERE\n",
    "\n",
    "\n",
    "\n",
    "\n",
    "\n",
    "\n",
    "\n"
   ]
  },
  {
   "cell_type": "markdown",
   "metadata": {},
   "source": [
    "### 1.1.1 Fleet Size and availability"
   ]
  },
  {
   "cell_type": "code",
   "execution_count": null,
   "metadata": {},
   "outputs": [],
   "source": [
    "# Let's explore fleet size\n",
    "\n",
    "fleet_size = len(STR_Nov[\"car ID\"].unique())\n",
    "\n",
    "print(\"The STR fleet consists of {} cars (for the observed time frame)\".format(fleet_size))"
   ]
  },
  {
   "cell_type": "markdown",
   "metadata": {},
   "source": [
    "Note that in STR the full active car fleet is electric and therefore constitutes a potential distributed energy resource (DER) that can be used to provide flexibility. The fleet consist of Smart EQ fortwos and Mercedes Benz A Class models each with a battery of size 17.6 kWh and charging rates of 6 kW (22kW optional)."
   ]
  },
  {
   "cell_type": "markdown",
   "metadata": {},
   "source": [
    "Let's explore fleet availability throughout the week and day by checking how many unique cars are available for each day and hour of day."
   ]
  },
  {
   "cell_type": "code",
   "execution_count": null,
   "metadata": {},
   "outputs": [],
   "source": [
    "# Availability over time (5 min intervals)\n",
    "\n",
    "STR_Nov_Date_avail = STR_Nov.groupby(\"timestamp\")[\"car ID\"].nunique() # this counts unique vehicles per 5-min time interval\n",
    "\n",
    "fig,ax = plt.subplots(figsize=(16,9)) \n",
    "\n",
    "ax.plot(STR_Nov_Date_avail)\n",
    "ax.set_title(\"Cars available per time interval\",fontsize=16)\n",
    "\n",
    "plt.show()"
   ]
  },
  {
   "cell_type": "markdown",
   "metadata": {},
   "source": [
    "Next we perform some aggregations. We are interested in typical availability\n",
    "- By day of week\n",
    "- By hour"
   ]
  },
  {
   "cell_type": "code",
   "execution_count": null,
   "metadata": {},
   "outputs": [],
   "source": [
    "# Availability by day of week (0 = Monday, 6 = Sunday)\n",
    "\n",
    "STR_Nov_weekday_avail = STR_Nov.groupby([\"Date\",\"Weekday\"])[\"car ID\"].nunique()\n",
    "STR_Nov_weekday_avail = pd.DataFrame(STR_Nov_weekday_avail)"
   ]
  },
  {
   "cell_type": "code",
   "execution_count": null,
   "metadata": {},
   "outputs": [],
   "source": [
    "fig,ax = plt.subplots(figsize=(10,4)) \n",
    "\n",
    "sns.boxplot(x=STR_Nov_weekday_avail.index.get_level_values(1), y=STR_Nov_weekday_avail[\"car ID\"],ax=ax)\n",
    "plt.show()"
   ]
  },
  {
   "cell_type": "code",
   "execution_count": null,
   "metadata": {},
   "outputs": [],
   "source": [
    "# Availability by time of day\n",
    "\n",
    "STR_Nov_time_avail = STR_Nov.groupby([\"Date\",\"Hour\"])[\"car ID\"].nunique()\n",
    "STR_Nov_time_avail = pd.DataFrame(STR_Nov_time_avail)"
   ]
  },
  {
   "cell_type": "code",
   "execution_count": null,
   "metadata": {},
   "outputs": [],
   "source": [
    "fig,ax = plt.subplots(figsize=(10,4)) \n",
    "\n",
    "sns.boxplot(x=STR_Nov_time_avail.index.get_level_values(1), y=STR_Nov_time_avail[\"car ID\"],ax=ax)\n",
    "plt.show()"
   ]
  },
  {
   "cell_type": "markdown",
   "metadata": {},
   "source": [
    "### Task: What do you observe? <br>\n",
    "\n",
    "- Describe the patterns of car availability shown in the descriptive graphs above. Which graphs are particularly instructive?\n",
    "- What are your assumptions regarding the cause of the observed patterns?\n",
    "- How would you expect the plot to look like if we were to plot the number of trips started?"
   ]
  },
  {
   "cell_type": "markdown",
   "metadata": {},
   "source": [
    "### 1.1.2 Car Movement & Location Intelligence\n",
    "\n",
    "How can we infer car movement from this data? Let's have a look at what the data provides. A lot of what follows below is a demonstation of possible geospatial analytics tasks with limited implications for VPP operations. It is, however, highly relevant from a fleet operator point of view (Where is the demand? Where should my units be when?)\n",
    "\n",
    "**Technical note**: for this tutorial we use `folium` for visualization (see [here](https://www.kaggle.com/daveianhickey/how-to-folium-for-maps-heatmaps-time-data) for a quick introduction). For more comprehensive functionality `geopandas` offers a powerful Python GIS data handling and plotting library (see [here](http://geopandas.org))."
   ]
  },
  {
   "cell_type": "code",
   "execution_count": null,
   "metadata": {},
   "outputs": [],
   "source": [
    "STR_Nov[\"Coordinates\"] = list(zip(STR_Nov[\"lat\"].round(4),STR_Nov[\"long\"].round(4)))"
   ]
  },
  {
   "cell_type": "code",
   "execution_count": null,
   "metadata": {},
   "outputs": [],
   "source": [
    "STR_Nov.head()"
   ]
  },
  {
   "cell_type": "markdown",
   "metadata": {},
   "source": [
    "Let us check where cars are typically located by plotting a heat map of locations for a given hour of the day."
   ]
  },
  {
   "cell_type": "code",
   "execution_count": null,
   "metadata": {
    "scrolled": true
   },
   "outputs": [],
   "source": [
    "# For performance reasons we select a single car only - Pick randomly from the list\n",
    "car_list = STR_Nov[\"car ID\"].unique()\n",
    "selected_car_ID = random.choice(car_list)\n",
    "print(selected_car_ID)"
   ]
  },
  {
   "cell_type": "code",
   "execution_count": null,
   "metadata": {},
   "outputs": [],
   "source": [
    "#define new map\n",
    "\n",
    "STR_heat_map = folium.Map(location=(48.76507, 9.25371),tiles='OpenStreetMap',zoom_start=12, control_scale=True, max_zoom=20)\n",
    "\n",
    "# add heat map\n",
    "\n",
    "STR_heat_map.add_child(plugins.HeatMap(STR_Nov[STR_Nov[\"car ID\"]==selected_car_ID][\"Coordinates\"], radius=20))\n",
    "\n",
    "STR_heat_map"
   ]
  },
  {
   "cell_type": "markdown",
   "metadata": {},
   "source": [
    "We now whish to identify the movement of the selected car. We draw the location points and trajectories."
   ]
  },
  {
   "cell_type": "code",
   "execution_count": null,
   "metadata": {
    "scrolled": true
   },
   "outputs": [],
   "source": [
    "#define empty map\n",
    "\n",
    "STR_map_points = folium.Map(location=(48.76507, 9.25371),  tiles='Stamen Toner', \n",
    "                       zoom_start=10, control_scale=True, max_zoom=20)\n",
    "\n",
    "\n",
    "# draw positions for selcted cars\n",
    "\n",
    "STR_Nov_car_select = STR_Nov[STR_Nov[\"car ID\"]==selected_car_ID]\n",
    "\n",
    "positions = list(STR_Nov_car_select[\"Coordinates\"].unique())\n",
    "for position in positions:\n",
    "    folium.CircleMarker(radius=10, location=position, popup='The Waterfront', \n",
    "                                 color='crimson', fill_color='crimson').add_to(STR_map_points)\n",
    "    \n",
    "STR_map_points"
   ]
  },
  {
   "cell_type": "markdown",
   "metadata": {},
   "source": [
    "We also add the trajectories to get an understanding of the distance traveled. Do you see any problem with such an approach?"
   ]
  },
  {
   "cell_type": "code",
   "execution_count": null,
   "metadata": {
    "scrolled": true
   },
   "outputs": [],
   "source": [
    "STR_map_trajectory = folium.Map(location=(48.76507, 9.25371),  tiles='Stamen Toner', \n",
    "                       zoom_start=11, control_scale=True, max_zoom=20)\n",
    "\n",
    "# draw trajectory for a selected car\n",
    "\n",
    "folium.PolyLine(STR_Nov_car_select[\"Coordinates\"],color=\"blue\", weight=5, opacity=0.8, ).add_to(STR_map_trajectory)\n",
    "STR_map_trajectory"
   ]
  },
  {
   "cell_type": "markdown",
   "metadata": {},
   "source": [
    "### Task\n",
    "\n",
    "- Combine the three maps into one by defining a new map and adding all three layers to that map. How does it look?"
   ]
  },
  {
   "cell_type": "code",
   "execution_count": null,
   "metadata": {
    "scrolled": true
   },
   "outputs": [],
   "source": [
    "# define empty map\n",
    "\n",
    "STR_map_combined = folium.Map(location=(48.76507, 9.25371),  tiles='Stamen Toner', \n",
    "                       zoom_start=9, control_scale=True, max_zoom=20)\n",
    "\n",
    "\n",
    "# add heatmap\n",
    "\n",
    "STR_map_combined.add_child(plugins.HeatMap(STR_Nov[STR_Nov[\"car ID\"]==selected_car_ID][\"Coordinates\"],\n",
    "                                           radius=20))\n",
    "\n",
    "# add poistion\n",
    "\n",
    "STR_Nov_car_select = STR_Nov[STR_Nov[\"car ID\"]==selected_car_ID]\n",
    "\n",
    "positions = list(STR_Nov_car_select[\"Coordinates\"].unique())\n",
    "for position in positions:\n",
    "    folium.CircleMarker(radius=5, location=position, popup='The Waterfront', \n",
    "                                 color='crimson', fill_color='crimson').add_to(STR_map_combined)\n",
    "\n",
    "# add trajectories\n",
    "\n",
    "folium.PolyLine(STR_Nov_car_select[\"Coordinates\"],color=\"blue\", weight=5, opacity=0.8, ).add_to(STR_map_combined)\n",
    "\n",
    "# plot map\n",
    "\n",
    "STR_map_combined"
   ]
  },
  {
   "cell_type": "markdown",
   "metadata": {},
   "source": [
    "**Note**: from the data we can also infer where charging points must be located. Let's have a look..."
   ]
  },
  {
   "cell_type": "markdown",
   "metadata": {},
   "source": [
    "### Task\n",
    "\n",
    "- How would you identify charging positions?"
   ]
  },
  {
   "cell_type": "code",
   "execution_count": null,
   "metadata": {},
   "outputs": [],
   "source": [
    "STR_Nov.head()"
   ]
  },
  {
   "cell_type": "code",
   "execution_count": null,
   "metadata": {},
   "outputs": [],
   "source": [
    "# how identify charging station locations?\n",
    "\n",
    "len(list(STR_Nov[STR_Nov[\"charging\"]==1][\"Coordinates\"].unique()))\n"
   ]
  },
  {
   "cell_type": "code",
   "execution_count": null,
   "metadata": {
    "scrolled": true
   },
   "outputs": [],
   "source": [
    "# YOUR CODE BELOW\n",
    "\n",
    "# define dataset for plotting, i.e. charging_pos\n",
    "\n",
    "charging_pos=list(STR_Nov[STR_Nov[\"charging\"]==1][\"Coordinates\"].unique())\n",
    "\n",
    "#define empty map\n",
    "\n",
    "STR_map_charging = folium.Map(location=(48.76507, 9.25371),  tiles='Stamen Toner', \n",
    "                       zoom_start=9, control_scale=True, max_zoom=20)\n",
    "\n",
    "\n",
    "# draw positions for selcted cars\n",
    "\n",
    "for charge_point in charging_pos:\n",
    "    folium.CircleMarker(radius=3, location=charge_point, popup='The Waterfront', \n",
    "                                 color='green', fill_color='green').add_to(STR_map_charging)\n",
    "    \n",
    "STR_map_charging"
   ]
  },
  {
   "cell_type": "markdown",
   "metadata": {},
   "source": [
    "### Task & Discussion: Limitations and how to deal with them?\n",
    "\n",
    "- Play around with the map above and try for different vehicles by repeatedly executing the code - What do you observe?\n",
    "- What are the key limitations of this data granularity?\n",
    "- What are approaches to infering distance traveled?\n",
    "- What are apporaches to infering the exact route traveled?"
   ]
  },
  {
   "cell_type": "markdown",
   "metadata": {},
   "source": [
    "## 1.2. Focus: Capacity Availability\n",
    "\n",
    "We now wish to understand how much capacity we have available at any given point in time and can therefore use to trade in the acillary market. For this we first need to define how many cars are charging at a particular instance. Also remeber the following technical information regarding the fleet:\n",
    "\n",
    "- Battery capacity: 17.6 kWh\n",
    "- Charging rate: 6 kW\n",
    "- Optional fast charging: 22 kW"
   ]
  },
  {
   "cell_type": "markdown",
   "metadata": {},
   "source": [
    "### 1.2.1. Capacity for trading in the ancillary services market"
   ]
  },
  {
   "cell_type": "code",
   "execution_count": null,
   "metadata": {},
   "outputs": [],
   "source": [
    "Battery_energy_capa = 17.6 #kWh\n",
    "Charging_rate = 6 #kW\n",
    "Charging_rate_fast = 22 #kW\n",
    "Max_EV_range = 200 #km"
   ]
  },
  {
   "cell_type": "code",
   "execution_count": null,
   "metadata": {},
   "outputs": [],
   "source": [
    "# Cars connected at a given point in time (we can simply sum the charging dummies)\n",
    "STR_Nov_charging = STR_Nov.groupby(\"timestamp\")[\"charging\"].sum()\n",
    "\n",
    "fig,ax = plt.subplots(figsize=(16,9)) \n",
    "\n",
    "ax.plot(STR_Nov_charging)\n",
    "\n",
    "ax.set_title(\"# cars connected at a given point in time\")\n",
    "ax.set_ylabel(\"# of cars\")\n",
    "ax.set_xlabel(\"Date\")\n",
    "\n",
    "plt.show()"
   ]
  },
  {
   "cell_type": "code",
   "execution_count": null,
   "metadata": {},
   "outputs": [],
   "source": [
    "# Let us look at trends over the day - How many cars get connected per hour per time of day?\n",
    "\n",
    "STR_Nov_charging_tod = pd.DataFrame(STR_Nov[STR_Nov[\"charging\"]==1]).groupby([\"Date\",\"Hour\"])[\"car ID\"].nunique()\n",
    "STR_Nov_charging_tod = pd.DataFrame(STR_Nov_charging_tod)"
   ]
  },
  {
   "cell_type": "code",
   "execution_count": null,
   "metadata": {},
   "outputs": [],
   "source": [
    "fig,ax = plt.subplots(figsize=(16,9)) \n",
    "\n",
    "sns.boxplot(x=STR_Nov_charging_tod.index.get_level_values(1), y=STR_Nov_charging_tod[\"car ID\"],ax=ax)\n",
    "ax.set_title(\"# cars connected by time of day (hour intervals)\")\n",
    "plt.show()"
   ]
  },
  {
   "cell_type": "code",
   "execution_count": null,
   "metadata": {},
   "outputs": [],
   "source": [
    "fig, ax = plt.subplots(figsize=(16,9), ncols=2, nrows=1, sharex=True, sharey=True)\n",
    "\n",
    "\n",
    "STR_Nov_capa_normal = STR_Nov.groupby(\"timestamp\")[\"charging\"].sum()*Charging_rate\n",
    "STR_Nov_capa_fast = STR_Nov.groupby(\"timestamp\")[\"charging\"].sum()*Charging_rate_fast\n",
    "\n",
    "# Normal speed______\n",
    "\n",
    "ax[0].set_title(\"Capacity per 5 min slot with 6kW charging [kW]\")\n",
    "ax[0].plot(STR_Nov_capa_normal, \"--b\")\n",
    "\n",
    "# fast speed_______\n",
    "\n",
    "ax[1].set_title(\"Capacity per 5 min slot with 22kW charging [kW]\")\n",
    "ax[1].plot(STR_Nov_capa_fast, \"--g\")\n",
    "\n",
    "plt.show()"
   ]
  },
  {
   "cell_type": "markdown",
   "metadata": {},
   "source": [
    "### Task:\n",
    "\n",
    "- What patterns do you see? Why? Do you see scope for building a strong predictive model?\n",
    "- How do you evaluate the case of using the VPP in the ancillary services markets (secondary reserve) (compare fast charging and normal charging case)? Given current market designs, can an EV VPP be successful?\n",
    "- Is there scope for raising capacity at a given point in time? What are innovative apporaches towards raising available capacity at any given point in time? (compare against # of idle cars, charging station positions etc.)\n",
    "- Recall the mechanism of the secondary reserve market: Participants use bid for a capacity price for every 15min. Do you see any issues/constraints in using electric vehicle batteries as secondary reserve? How can the fleet operator ensure that the VPP can deliver the required capacity over the full pledged period?"
   ]
  },
  {
   "cell_type": "markdown",
   "metadata": {},
   "source": [
    "### 1.2.2 What is the battery constraint for balancing capacity provision?\n",
    "\n",
    "In the acillary services market you pledge capacity (in kW) for which you get reimbursed. If you get called (either for upwards or downwards regulation) you need to feed in or consume at this rate (or below). Therefore, as a plant operator, you need to demonstrate that you will be able to sustain the pleadged load for the full 15min time interval.\n",
    "\n",
    "To verify, we explore the state of charge across time for the cars that are charging as this will give us an indication for the energy that is available for upwards and downwards regulation (i.e. the time frame for which the VPP can be called) - An important constraint!"
   ]
  },
  {
   "cell_type": "code",
   "execution_count": null,
   "metadata": {},
   "outputs": [],
   "source": [
    "# connected battery capacity (in KWh)\n",
    "\n",
    "# What do we have available for downwards regulation (i.e. how much energy can be absorbed?)\n",
    "STR_Nov[\"Connected free Battery Capacity [kWh]\"] = (\n",
    "    (100-STR_Nov[\"tank/charge level\"])/100)*Battery_energy_capa*STR_Nov[\"charging\"]\n",
    "\n",
    "# What do we have available for upwards regulation (i.e. how much energy can be fed back into the grid?)\n",
    "STR_Nov[\"Connected SOC [kWh]\"] = (\n",
    "    (STR_Nov[\"tank/charge level\"])/100)*Battery_energy_capa*STR_Nov[\"charging\"]"
   ]
  },
  {
   "cell_type": "code",
   "execution_count": null,
   "metadata": {},
   "outputs": [],
   "source": [
    "Connected_downwards_energy = STR_Nov[STR_Nov[\"charging\"]==1].groupby(\"timestamp\")[\"Connected free Battery Capacity [kWh]\"].sum()\n",
    "Connected_upwards_energy = STR_Nov[STR_Nov[\"charging\"]==1].groupby(\"timestamp\")[\"Connected SOC [kWh]\"].sum()"
   ]
  },
  {
   "cell_type": "code",
   "execution_count": null,
   "metadata": {},
   "outputs": [],
   "source": [
    "#Connected_downwards_energy"
   ]
  },
  {
   "cell_type": "code",
   "execution_count": null,
   "metadata": {},
   "outputs": [],
   "source": [
    "fig, ax = plt.subplots(figsize=(16,9), ncols=2, nrows=1, sharex=True, sharey=True)\n",
    "\n",
    "# Normal speed______\n",
    "\n",
    "ax[0].set_title(\"Downwards energy [kWh]\")\n",
    "ax[0].plot(Connected_downwards_energy, \"--b\")\n",
    "\n",
    "# fast speed_______\n",
    "\n",
    "ax[1].set_title(\"Upwards energy [kWh]\")\n",
    "ax[1].plot(Connected_upwards_energy, \"--g\")\n",
    "\n",
    "plt.show()"
   ]
  },
  {
   "cell_type": "markdown",
   "metadata": {},
   "source": [
    "### Task:\n",
    "\n",
    "- How do you determine whether enough energy/storage capacity is available to fulfill the \n",
    "- From inspecting the graph above and comparing with the available capacity from above is their a relevant state of charge constraint? Is it a problem? How big of a problem is it?\n",
    "- How does this constraint influence the capacity that can be pledged in the capacity markets?"
   ]
  },
  {
   "cell_type": "markdown",
   "metadata": {},
   "source": [
    "## 1.3. Focus: Rental demand and vehicle utilization\n",
    "\n",
    "We now whish to understand in more detail the rental demand in Stuttgart. First we need a full understanding of car status for the different years. We distinguish the following four states:\n",
    "\n",
    "+ **parked, not charging**: charging = 0, $address_{(t-1)}$ = $address_t$\n",
    "+ **parked, charging**: charging = 1, $address_{(t-1)}$ = $address_t$\n",
    "+ **rented (start)**: charging = 0, $address_{(t-1)}$ = $address_t$, $address_{(t-1)}$ <> $address_t$\n",
    "+ **rented (end)**: charging = 0, $address_{(t-1)}$ <> $address_t, address_{(t-1)}$ = $address_t$"
   ]
  },
  {
   "cell_type": "code",
   "execution_count": null,
   "metadata": {},
   "outputs": [],
   "source": [
    "STR_Nov.columns"
   ]
  },
  {
   "cell_type": "code",
   "execution_count": null,
   "metadata": {},
   "outputs": [],
   "source": [
    "#columns = [\"carID\", \"long\",\"lat\", \"address\", \"soc\", \"charging\", \"date\", \"week\", \"hour\", \"coordinates\", \"connected free capacity\", \"connected soc\", \"timestamp\"]\n",
    "columns = ['timestamp', 'carID', 'long', 'lat', 'address', 'soc','charging', 'date', 'weekday', 'hour', 'coordinates','connected free capacity', 'connected soc']\n",
    "STR_Nov.columns = columns\n",
    "STR_Nov.head(2)"
   ]
  },
  {
   "cell_type": "code",
   "execution_count": null,
   "metadata": {},
   "outputs": [],
   "source": [
    "def calculate_trips(df_car):\n",
    "    \n",
    "    trips = list()\n",
    "    \n",
    "    prev = df_car.iloc[0]\n",
    "    \n",
    "    # iterate over rows\n",
    "    for row in df_car.itertuples():\n",
    "        \n",
    "    # 0=carid, 1=long, 2=lat, 3=address, 4=Soc, 12=timestamp\n",
    "        if row.address != prev.address:\n",
    "            trips.append([prev.carID, \n",
    "                          prev.timestamp, \n",
    "                          prev.address, \n",
    "                          prev.lat, \n",
    "                          prev.long, \n",
    "                          prev.soc, \n",
    "                          row.timestamp,\n",
    "                          row.address, \n",
    "                          row.lat, \n",
    "                          row.long, \n",
    "                          row.soc])\n",
    "        prev = row # set prev to row (will be r-1 for next iteration)\n",
    "\n",
    "    return pd.DataFrame(\n",
    "        trips,\n",
    "        columns=[\n",
    "            \"EV\",\n",
    "            \"start_time\",\n",
    "            \"start_address\",\n",
    "            \"start_lat\",\n",
    "            \"start_lon\",\n",
    "            \"start_soc\",\n",
    "            \"end_time\",\n",
    "            \"end_address\",\n",
    "            \"end_lat\",\n",
    "            \"end_lon\",\n",
    "            \"end_soc\"],\n",
    "    )"
   ]
  },
  {
   "cell_type": "code",
   "execution_count": null,
   "metadata": {},
   "outputs": [],
   "source": [
    "# Define processing function for cleaning\n",
    "\n",
    "def process(df):\n",
    "    \"\"\"Executes all preprocessing steps sequentially\"\"\"\n",
    "\n",
    "    # GPS accuracy is only guaranteed at a granularity of 10m, round accordingly.\n",
    "    # See also: https://wiki.openstreetmap.org/wiki/Precision_of_coordinates.\n",
    "    df[[\"lat\", \"long\"]] = df[\n",
    "        [\"lat\", \"long\"]].round(4)\n",
    "    \n",
    "\n",
    "    df.sort_values([\"carID\",\"timestamp\"], inplace=True)\n",
    "\n",
    "    # define lists\n",
    "    trips = list()\n",
    "    cars = df[\"carID\"].unique()\n",
    "    \n",
    "    # loop\n",
    "    for car in cars:\n",
    "        ev_trips = calculate_trips(df[df[\"carID\"] == car])\n",
    "        trips.append(ev_trips)\n",
    "\n",
    "    df_trips = pd.concat(trips)\n",
    "    df_trips = df_trips.sort_values(\"start_time\").reset_index().drop(\"index\", axis=1)\n",
    "\n",
    "    #df_trips = clean_trips(df_trips)\n",
    "    #df_trips = add_charging_stations(df_trips, df_stations)\n",
    "    \n",
    "    \n",
    "    return df_trips"
   ]
  },
  {
   "cell_type": "code",
   "execution_count": null,
   "metadata": {},
   "outputs": [],
   "source": [
    "STR_Nov_trips = process(STR_Nov)"
   ]
  },
  {
   "cell_type": "code",
   "execution_count": null,
   "metadata": {},
   "outputs": [],
   "source": [
    "# To do: Do some cleaning, e.g. remove v. long trips or trips with no distance"
   ]
  },
  {
   "cell_type": "code",
   "execution_count": null,
   "metadata": {},
   "outputs": [],
   "source": [
    "STR_Nov_trips.head()"
   ]
  },
  {
   "cell_type": "code",
   "execution_count": null,
   "metadata": {},
   "outputs": [],
   "source": [
    "# Add distance\n",
    "\n",
    "# Approach 1: Infer using Soc, Problem: Cannot use this approach in case car has been charged during trip\n",
    "\n",
    "def distance(soc_diff):\n",
    "    if soc_diff<=0:\n",
    "        dist = -soc_diff/100 * Max_EV_range\n",
    "        return dist\n",
    "    else:\n",
    "        return np.nan # if EV has been charged during\n",
    "    \n",
    "# Approach 2: Use Haversine distance to find geodesic distance (see: https://janakiev.com/blog/gps-points-distance-python/)\n",
    "### Not implemented here\n",
    "\n",
    "# Approach 3: OpenStreetMaps Route Calc (OSMnx is an excellent library for this)\n",
    "### Not implemented here\n",
    "\n",
    "### Here we use Approach 1\n",
    "STR_Nov_trips[\"distance_soc\"] = (STR_Nov_trips[\"end_soc\"]-STR_Nov_trips[\"start_soc\"]).apply(distance)\n"
   ]
  },
  {
   "cell_type": "code",
   "execution_count": null,
   "metadata": {},
   "outputs": [],
   "source": [
    "# Add trip duration\n",
    "# Max. overerstimation of duration by c. 10 min \n",
    "# (rent just before next 5min stamp and return just after second to last stamp) )\n",
    "\n",
    "STR_Nov_trips[\"duration\"] = STR_Nov_trips[\"end_time\"] - STR_Nov_trips[\"start_time\"]"
   ]
  },
  {
   "cell_type": "code",
   "execution_count": null,
   "metadata": {},
   "outputs": [],
   "source": [
    "STR_Nov_trips.head()"
   ]
  },
  {
   "cell_type": "code",
   "execution_count": null,
   "metadata": {},
   "outputs": [],
   "source": [
    "# Check occurences where distance metric fails \n",
    "# -> No way of infering actual distance traveled as it will likely have been a roundtrip\n",
    "\n",
    "len(STR_Nov_trips[STR_Nov_trips[\"distance_soc\"].isna() == True])/len(STR_Nov_trips)#.head()"
   ]
  },
  {
   "cell_type": "code",
   "execution_count": null,
   "metadata": {},
   "outputs": [],
   "source": [
    "STR_Nov_trips_total_rental = STR_Nov_trips[[\"EV\",\"duration\"]].groupby(\"EV\").sum()"
   ]
  },
  {
   "cell_type": "code",
   "execution_count": null,
   "metadata": {},
   "outputs": [],
   "source": [
    "STR_Nov_trips_total_rental[\"utilization\"] = STR_Nov_trips_total_rental[\"duration\"]/ (np.timedelta64(15,'D'))"
   ]
  },
  {
   "cell_type": "code",
   "execution_count": null,
   "metadata": {},
   "outputs": [],
   "source": [
    "sns.distplot(STR_Nov_trips_total_rental[\"utilization\"], bins=50)\n",
    "plt.show()"
   ]
  },
  {
   "cell_type": "markdown",
   "metadata": {},
   "source": [
    "## Tasks\n",
    "\n",
    "- What patterns do you observe in rental demand and utilization?\n",
    "- What is the issue with the above view on rental demand? How best to deal with it?\n",
    "- How do you evaluate the capacity utilization of the cars? Does the sharing economy deliver on its promise of higher capital utilization?\n",
    "- How would you go about forecasting rental demand? What key factors can you think of that could be used in a predictive model to forecast rental demand?"
   ]
  }
 ],
 "metadata": {
  "kernelspec": {
   "display_name": "Python 3",
   "language": "python",
   "name": "python3"
  },
  "language_info": {
   "codemirror_mode": {
    "name": "ipython",
    "version": 3
   },
   "file_extension": ".py",
   "mimetype": "text/x-python",
   "name": "python",
   "nbconvert_exporter": "python",
   "pygments_lexer": "ipython3",
   "version": "3.8.10"
  }
 },
 "nbformat": 4,
 "nbformat_minor": 4
}
