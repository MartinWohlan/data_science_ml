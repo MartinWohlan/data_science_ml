{
 "cells": [
  {
   "cell_type": "markdown",
   "metadata": {},
   "source": [
    "# `DSML Workshop 06` - Working with Time Series Data\n",
    "\n",
    "In this workshop we focus on working with time series data, a very common data science task. We have covered some of this stuff implictly in the previous workshop. Today we intend to go into detail on the time series capabilities of Python. We will introduce DateTime and as the undelying time series implementation but focus mostly on Pandas.\n",
    "\n",
    "After covering the basics of time series in Python we will work hands-on with an electricity price dataset. At the end of this session you should:\n",
    "\n",
    "- Understand the Python `DateTime` Module and its implementation in `Pandas`\n",
    "- Read-in, manipulate, index and group time series data\n",
    "- Extract common time series features such as day-of-week, hour-of-day and weekday/weekend"
   ]
  },
  {
   "cell_type": "code",
   "execution_count": 1,
   "metadata": {},
   "outputs": [],
   "source": [
    "from datetime import date, time, datetime, timedelta\n",
    "import numpy as np\n",
    "import pandas as pd"
   ]
  },
  {
   "cell_type": "markdown",
   "metadata": {},
   "source": [
    "## `DateTime`"
   ]
  },
  {
   "cell_type": "markdown",
   "metadata": {},
   "source": [
    "Time series work very differently from standard numbers series such as integer series. You need special rules to perform operations on them. For this Python provides the necessary tools such as the built-in libraries `datetime` and`dateutil` or NumPy's `datetime64`. You can read up on these here: https://docs.python.org/3/library/datetime.html"
   ]
  },
  {
   "cell_type": "markdown",
   "metadata": {},
   "source": [
    "- `datetime.date`: An idealized naive date, assuming the current Gregorian calendar always was, and always will be, in effect. Attributes: year, month, and day.\n",
    "\n",
    "- `datetime.time`: An idealized time, independent of any particular day, assuming that every day has exactly 24*60*60 seconds (there is no notion of “leap seconds” here). Attributes: hour, minute, second, microsecond, and tzinfo.\n",
    "\n",
    "- `datetime.datetime`: A combination of a date and a time. Attributes: year, month, day, hour, minute, second, microsecond, and tzinfo.\n",
    "\n",
    "- `datetime.timedelta`: A duration expressing the difference between two date, time, or datetime instances to microsecond resolution.\n",
    "\n",
    "- `datetime.tzinfo`: An abstract base class for time zone information objects. These are used by the datetime and time classes to provide a customizable notion of time adjustment (for example, to account for time zone and/or daylight saving time).\n",
    "\n",
    "- `datetime.timezone`: A class that implements the tzinfo abstract base class as a fixed offset from the UTC."
   ]
  },
  {
   "cell_type": "code",
   "execution_count": 2,
   "metadata": {},
   "outputs": [],
   "source": [
    "# Let's define a datetime object\n",
    "\n",
    "date1 = datetime(year=2020, month=5, day=13, hour=12, minute= 29, second=59, microsecond=109262)"
   ]
  },
  {
   "cell_type": "code",
   "execution_count": 3,
   "metadata": {},
   "outputs": [
    {
     "data": {
      "text/plain": [
       "datetime.datetime(2020, 5, 13, 12, 29, 59, 109262)"
      ]
     },
     "execution_count": 3,
     "metadata": {},
     "output_type": "execute_result"
    }
   ],
   "source": [
    "date1"
   ]
  },
  {
   "cell_type": "code",
   "execution_count": 4,
   "metadata": {},
   "outputs": [],
   "source": [
    "# And a second one\n",
    "date2 = datetime(year=2020, month=5, day=14, hour=16, minute= 1, second=59, microsecond=109262)"
   ]
  },
  {
   "cell_type": "code",
   "execution_count": 5,
   "metadata": {},
   "outputs": [
    {
     "data": {
      "text/plain": [
       "datetime.datetime"
      ]
     },
     "execution_count": 5,
     "metadata": {},
     "output_type": "execute_result"
    }
   ],
   "source": [
    "type(date2)"
   ]
  },
  {
   "cell_type": "markdown",
   "metadata": {},
   "source": [
    "You can perform oparations on these tow datetime objects: A timedelta object results"
   ]
  },
  {
   "cell_type": "code",
   "execution_count": 6,
   "metadata": {},
   "outputs": [],
   "source": [
    "# You can perform oparations on these two datetime objects: A timedelta aobject°results\n",
    "delta = date2 - date1"
   ]
  },
  {
   "cell_type": "code",
   "execution_count": 7,
   "metadata": {},
   "outputs": [
    {
     "data": {
      "text/plain": [
       "datetime.timedelta(days=1, seconds=12720)"
      ]
     },
     "execution_count": 7,
     "metadata": {},
     "output_type": "execute_result"
    }
   ],
   "source": [
    "delta"
   ]
  },
  {
   "cell_type": "code",
   "execution_count": 8,
   "metadata": {},
   "outputs": [
    {
     "data": {
      "text/plain": [
       "datetime.timedelta"
      ]
     },
     "execution_count": 8,
     "metadata": {},
     "output_type": "execute_result"
    }
   ],
   "source": [
    "type(delta)"
   ]
  },
  {
   "cell_type": "markdown",
   "metadata": {},
   "source": [
    "A powerful extension of `DateTime` is the `dateutil` module which allows you to parse date and time information that comes in different formats"
   ]
  },
  {
   "cell_type": "code",
   "execution_count": 9,
   "metadata": {},
   "outputs": [
    {
     "name": "stdout",
     "output_type": "stream",
     "text": [
      "2020-05-13 00:00:00\n",
      "2020-05-13 00:00:00\n",
      "2020-05-13 00:00:00\n"
     ]
    }
   ],
   "source": [
    "from dateutil import parser\n",
    "date3 = parser.parse(\"13th of May, 2020\")\n",
    "date4 = parser.parse(\"13/05/2020\")\n",
    "\n",
    "date5 = pd.to_datetime(\"13th of May, 2020\")\n",
    "\n",
    "print(date3)\n",
    "print(date4)\n",
    "print(date5)"
   ]
  },
  {
   "cell_type": "markdown",
   "metadata": {},
   "source": [
    "The power of datetime and dateutil lie in their flexibility and easy syntax: you can use these objects and their built-in methods to easily perform nearly any operation you might be interested in. They have their weaknesses when you whish wish to work with large arrays of dates and times: just as lists of Python numerical variables are suboptimal compared to NumPy-style typed numerical arrays, lists of Python datetime objects are suboptimal compared to typed arrays of encoded dates."
   ]
  },
  {
   "cell_type": "markdown",
   "metadata": {},
   "source": [
    "## Vectorized Time Series Data in `NumPy`"
   ]
  },
  {
   "cell_type": "code",
   "execution_count": 10,
   "metadata": {},
   "outputs": [],
   "source": [
    "import numpy as np"
   ]
  },
  {
   "cell_type": "code",
   "execution_count": 11,
   "metadata": {},
   "outputs": [
    {
     "data": {
      "text/plain": [
       "array('2019-05-07', dtype='datetime64[D]')"
      ]
     },
     "execution_count": 11,
     "metadata": {},
     "output_type": "execute_result"
    }
   ],
   "source": [
    "date5 = np.array('2019-05-07', dtype=np.datetime64)\n",
    "date5"
   ]
  },
  {
   "cell_type": "markdown",
   "metadata": {},
   "source": [
    "Once we have the date object in a Numpy format, we can perform vectorized opeartions on it:"
   ]
  },
  {
   "cell_type": "code",
   "execution_count": 12,
   "metadata": {},
   "outputs": [
    {
     "data": {
      "text/plain": [
       "array([ 0,  1,  2,  3,  4,  5,  6,  7,  8,  9, 10, 11])"
      ]
     },
     "execution_count": 12,
     "metadata": {},
     "output_type": "execute_result"
    }
   ],
   "source": [
    "np.arange(12)"
   ]
  },
  {
   "cell_type": "code",
   "execution_count": 13,
   "metadata": {},
   "outputs": [
    {
     "data": {
      "text/plain": [
       "array(['2019-05-07', '2019-05-06', '2019-05-05', '2019-05-04',\n",
       "       '2019-05-03', '2019-05-02', '2019-05-01', '2019-04-30',\n",
       "       '2019-04-29', '2019-04-28', '2019-04-27', '2019-04-26'],\n",
       "      dtype='datetime64[D]')"
      ]
     },
     "execution_count": 13,
     "metadata": {},
     "output_type": "execute_result"
    }
   ],
   "source": [
    "date5-np.arange(12)"
   ]
  },
  {
   "cell_type": "markdown",
   "metadata": {},
   "source": [
    "## `Pandas` for Time Series"
   ]
  },
  {
   "cell_type": "markdown",
   "metadata": {},
   "source": [
    "In this workshop we will focus on the datetime functionality provided by Pandas. Pandas builds upon all the tools above to provide a `Timestamp` object, which combines the ease-of-use of datetime with the efficient storage and vectorized interface of `numpy.datetime64`. From a group of these Timestamp objects, Pandas can construct a `DatetimeIndex` that can be used to index data in a Series or DataFrame; we'll see how this works below."
   ]
  },
  {
   "cell_type": "markdown",
   "metadata": {},
   "source": [
    "Pandas was developed in the context of financial modeling, so as you might expect, it contains a fairly extensive set of tools for working with dates, times, and time-indexed data. Date and time data comes in a few forms, which we will discuss here:\n",
    "* __Time stamps__ reference particular moments in time (e.g., May 7th, 2019 at 4:00pm).\n",
    "* __Time intervals__ and periods reference a length of time between a particular beginning and end point; for example, the year 2015. Periods usually reference a special case of time intervals in which each interval is of uniform length and does not overlap (e.g., 24 hour-long periods comprising days).\n",
    "* __Time deltas__ or durations reference an exact length of time (e.g., a duration of 22.56 seconds).\n",
    "\n",
    "In the following we will introduce how to work with each of these types of date/time data in Python/Pandas. This short section is by no means a complete guide to the time series tools available in Python or Pandas, but will equip you with the relevat methods and techniques necessary to complete your team assignments. \n",
    "\n",
    "We will keep theory very short and focus instead on key methods relevant to your assignment by using the real-world example of German power prices. For more information on this please consult the relevant Pandas documentation [here](http://pandas.pydata.org/pandas-docs/stable/user_guide/timeseries.html)."
   ]
  },
  {
   "cell_type": "code",
   "execution_count": 14,
   "metadata": {},
   "outputs": [],
   "source": [
    "import pandas as pd"
   ]
  },
  {
   "cell_type": "code",
   "execution_count": 15,
   "metadata": {},
   "outputs": [
    {
     "name": "stdout",
     "output_type": "stream",
     "text": [
      "2019-05-07 00:00:00\n",
      "2019-05-07 00:00:00\n"
     ]
    }
   ],
   "source": [
    "# Let's define a date and return the respective time stamp\n",
    "\n",
    "date6 = pd.to_datetime(\"7th of May, 2019\")\n",
    "date7 = pd.to_datetime(\"07.05.2019\", format=\"%d.%m.%Y\") #the format argument defines the format in which the data comes in\n",
    "print(date6)\n",
    "print(date7)"
   ]
  },
  {
   "cell_type": "code",
   "execution_count": 16,
   "metadata": {},
   "outputs": [
    {
     "data": {
      "text/plain": [
       "pandas._libs.tslibs.timestamps.Timestamp"
      ]
     },
     "execution_count": 16,
     "metadata": {},
     "output_type": "execute_result"
    }
   ],
   "source": [
    "type(date6)"
   ]
  },
  {
   "cell_type": "code",
   "execution_count": 17,
   "metadata": {},
   "outputs": [
    {
     "data": {
      "text/plain": [
       "1"
      ]
     },
     "execution_count": 17,
     "metadata": {},
     "output_type": "execute_result"
    }
   ],
   "source": [
    "# we can also return important relevant time features \n",
    "date6.weekday() # The day of the week with Monday=0, Sunday=6"
   ]
  },
  {
   "cell_type": "code",
   "execution_count": 18,
   "metadata": {},
   "outputs": [
    {
     "data": {
      "text/plain": [
       "2019"
      ]
     },
     "execution_count": 18,
     "metadata": {},
     "output_type": "execute_result"
    }
   ],
   "source": [
    "date6.year"
   ]
  },
  {
   "cell_type": "code",
   "execution_count": 19,
   "metadata": {},
   "outputs": [
    {
     "data": {
      "text/plain": [
       "0"
      ]
     },
     "execution_count": 19,
     "metadata": {},
     "output_type": "execute_result"
    }
   ],
   "source": [
    "date6.hour"
   ]
  },
  {
   "cell_type": "markdown",
   "metadata": {},
   "source": [
    "Additionally, we can do NumPy-style vectorized operations directly on this same object. This will return the DatetimeIndex object from which we can index Timestamps"
   ]
  },
  {
   "cell_type": "code",
   "execution_count": 20,
   "metadata": {},
   "outputs": [
    {
     "data": {
      "text/plain": [
       "DatetimeIndex(['2019-05-07', '2019-05-08', '2019-05-09', '2019-05-10',\n",
       "               '2019-05-11', '2019-05-12', '2019-05-13', '2019-05-14'],\n",
       "              dtype='datetime64[ns]', freq=None)"
      ]
     },
     "execution_count": 20,
     "metadata": {},
     "output_type": "execute_result"
    }
   ],
   "source": [
    "date_index1 = date6 + pd.to_timedelta(np.arange(8), 'D') # 'D' specifies the frequency, i.e. days\n",
    "date_index1"
   ]
  },
  {
   "cell_type": "code",
   "execution_count": 21,
   "metadata": {},
   "outputs": [
    {
     "data": {
      "text/plain": [
       "DatetimeIndex(['2019-05-07 00:00:00', '2019-05-07 01:00:00',\n",
       "               '2019-05-07 02:00:00', '2019-05-07 03:00:00',\n",
       "               '2019-05-07 04:00:00', '2019-05-07 05:00:00',\n",
       "               '2019-05-07 06:00:00', '2019-05-07 07:00:00'],\n",
       "              dtype='datetime64[ns]', freq=None)"
      ]
     },
     "execution_count": 21,
     "metadata": {},
     "output_type": "execute_result"
    }
   ],
   "source": [
    "date_index2 = date6 + pd.to_timedelta(np.arange(8), 'H') # 'H' specifies the frequency, i.e. hours\n",
    "date_index2"
   ]
  },
  {
   "cell_type": "markdown",
   "metadata": {},
   "source": [
    "### `Pandas` Intervals/Periods\n",
    "For time Periods, Pandas provides the Period type. This encodes a fixed-frequency interval based on numpy.datetime64. The associated index structure is PeriodIndex"
   ]
  },
  {
   "cell_type": "code",
   "execution_count": 22,
   "metadata": {},
   "outputs": [
    {
     "data": {
      "text/plain": [
       "DatetimeIndex(['2019-05-07 00:00:00', '2019-05-07 02:00:00',\n",
       "               '2019-05-07 04:00:00', '2019-05-07 06:00:00',\n",
       "               '2019-05-07 08:00:00', '2019-05-07 10:00:00',\n",
       "               '2019-05-07 12:00:00', '2019-05-07 14:00:00'],\n",
       "              dtype='datetime64[ns]', freq='2H')"
      ]
     },
     "execution_count": 22,
     "metadata": {},
     "output_type": "execute_result"
    }
   ],
   "source": [
    "date_index3 = pd.date_range(datetime(year=2019, month=5, day=7), periods=8,freq=\"2H\")\n",
    "date_index3"
   ]
  },
  {
   "cell_type": "code",
   "execution_count": 23,
   "metadata": {},
   "outputs": [
    {
     "data": {
      "text/plain": [
       "DatetimeIndex(['2019-05-07 00:00:00', '2019-05-07 00:30:00',\n",
       "               '2019-05-07 01:00:00', '2019-05-07 01:30:00',\n",
       "               '2019-05-07 02:00:00', '2019-05-07 02:30:00',\n",
       "               '2019-05-07 03:00:00', '2019-05-07 03:30:00',\n",
       "               '2019-05-07 04:00:00', '2019-05-07 04:30:00',\n",
       "               '2019-05-07 05:00:00', '2019-05-07 05:30:00',\n",
       "               '2019-05-07 06:00:00', '2019-05-07 06:30:00',\n",
       "               '2019-05-07 07:00:00', '2019-05-07 07:30:00',\n",
       "               '2019-05-07 08:00:00', '2019-05-07 08:30:00',\n",
       "               '2019-05-07 09:00:00', '2019-05-07 09:30:00',\n",
       "               '2019-05-07 10:00:00', '2019-05-07 10:30:00',\n",
       "               '2019-05-07 11:00:00', '2019-05-07 11:30:00',\n",
       "               '2019-05-07 12:00:00', '2019-05-07 12:30:00',\n",
       "               '2019-05-07 13:00:00', '2019-05-07 13:30:00',\n",
       "               '2019-05-07 14:00:00', '2019-05-07 14:30:00',\n",
       "               '2019-05-07 15:00:00', '2019-05-07 15:30:00',\n",
       "               '2019-05-07 16:00:00', '2019-05-07 16:30:00',\n",
       "               '2019-05-07 17:00:00', '2019-05-07 17:30:00',\n",
       "               '2019-05-07 18:00:00', '2019-05-07 18:30:00',\n",
       "               '2019-05-07 19:00:00', '2019-05-07 19:30:00',\n",
       "               '2019-05-07 20:00:00', '2019-05-07 20:30:00',\n",
       "               '2019-05-07 21:00:00', '2019-05-07 21:30:00',\n",
       "               '2019-05-07 22:00:00', '2019-05-07 22:30:00',\n",
       "               '2019-05-07 23:00:00', '2019-05-07 23:30:00',\n",
       "               '2019-05-08 00:00:00'],\n",
       "              dtype='datetime64[ns]', freq='30T')"
      ]
     },
     "execution_count": 23,
     "metadata": {},
     "output_type": "execute_result"
    }
   ],
   "source": [
    "# We can adjust the frequency which defaults to D (i.e. days)\n",
    "\n",
    "date_index3 = pd.date_range(start=datetime(year=2019, month=5, day=7), end=datetime(year=2019, month=5, day=8), freq=\"30min\")\n",
    "date_index3"
   ]
  },
  {
   "cell_type": "markdown",
   "metadata": {},
   "source": [
    "### `Pandas` Timedelta\n",
    "For time deltas or durations, Pandas provides the Timedelta type. Timedelta is a more efficient replacement for Python's native datetime.timedelta type, and is based on numpy.timedelta64. The associated index structure is TimedeltaIndex."
   ]
  },
  {
   "cell_type": "markdown",
   "metadata": {},
   "source": [
    "Let us define another date and determine the time delta from the orginal date through simple substraction. The result is a Timedelta object."
   ]
  },
  {
   "cell_type": "code",
   "execution_count": 24,
   "metadata": {},
   "outputs": [
    {
     "data": {
      "text/plain": [
       "Timestamp('2019-05-14 00:00:00')"
      ]
     },
     "execution_count": 24,
     "metadata": {},
     "output_type": "execute_result"
    }
   ],
   "source": [
    "date7 = pd.to_datetime(datetime(year=2019, month=5, day=14))\n",
    "date7"
   ]
  },
  {
   "cell_type": "code",
   "execution_count": 25,
   "metadata": {},
   "outputs": [
    {
     "data": {
      "text/plain": [
       "Timedelta('7 days 00:00:00')"
      ]
     },
     "execution_count": 25,
     "metadata": {},
     "output_type": "execute_result"
    }
   ],
   "source": [
    "time_delta = date7-date6\n",
    "time_delta"
   ]
  },
  {
   "cell_type": "markdown",
   "metadata": {},
   "source": [
    "## Real-world Example - Power Price Data\n",
    "A common example in the domain of sustainability is power price analyis. We will go through a simple example using daily power price data over the past 10 years. Please download the respective file entitled `EEX_baseload_future.xlsx` from GitLab if you wish to work along with us. We will use the `Pandas` library to work with this data. We will do three things:\n",
    "\n",
    "- Indexing of time series data\n",
    "- Aggregating time series data\n",
    "- Handling missing data in time series\n",
    "- Extracting temporal features from time series"
   ]
  },
  {
   "cell_type": "markdown",
   "metadata": {},
   "source": [
    "To run the below cell you will require the `xlrd` package. Use the following command to install it via the command line: `conda install -c anaconda xlrd`"
   ]
  },
  {
   "cell_type": "code",
   "execution_count": 26,
   "metadata": {},
   "outputs": [
    {
     "data": {
      "text/html": [
       "<div>\n",
       "<style scoped>\n",
       "    .dataframe tbody tr th:only-of-type {\n",
       "        vertical-align: middle;\n",
       "    }\n",
       "\n",
       "    .dataframe tbody tr th {\n",
       "        vertical-align: top;\n",
       "    }\n",
       "\n",
       "    .dataframe thead th {\n",
       "        text-align: right;\n",
       "    }\n",
       "</style>\n",
       "<table border=\"1\" class=\"dataframe\">\n",
       "  <thead>\n",
       "    <tr style=\"text-align: right;\">\n",
       "      <th></th>\n",
       "      <th>Date</th>\n",
       "      <th>Closing_Price</th>\n",
       "      <th>Opening_Price</th>\n",
       "      <th>Daily_High</th>\n",
       "      <th>Daily_Low</th>\n",
       "    </tr>\n",
       "  </thead>\n",
       "  <tbody>\n",
       "    <tr>\n",
       "      <th>0</th>\n",
       "      <td>2018-05-02</td>\n",
       "      <td>38.76</td>\n",
       "      <td>NaN</td>\n",
       "      <td>NaN</td>\n",
       "      <td>NaN</td>\n",
       "    </tr>\n",
       "    <tr>\n",
       "      <th>1</th>\n",
       "      <td>2018-04-30</td>\n",
       "      <td>39.33</td>\n",
       "      <td>NaN</td>\n",
       "      <td>NaN</td>\n",
       "      <td>NaN</td>\n",
       "    </tr>\n",
       "    <tr>\n",
       "      <th>2</th>\n",
       "      <td>2018-04-27</td>\n",
       "      <td>38.81</td>\n",
       "      <td>38.85</td>\n",
       "      <td>38.88</td>\n",
       "      <td>38.85</td>\n",
       "    </tr>\n",
       "    <tr>\n",
       "      <th>3</th>\n",
       "      <td>2018-04-26</td>\n",
       "      <td>38.75</td>\n",
       "      <td>NaN</td>\n",
       "      <td>NaN</td>\n",
       "      <td>NaN</td>\n",
       "    </tr>\n",
       "    <tr>\n",
       "      <th>4</th>\n",
       "      <td>2018-04-25</td>\n",
       "      <td>38.10</td>\n",
       "      <td>NaN</td>\n",
       "      <td>NaN</td>\n",
       "      <td>NaN</td>\n",
       "    </tr>\n",
       "  </tbody>\n",
       "</table>\n",
       "</div>"
      ],
      "text/plain": [
       "        Date  Closing_Price  Opening_Price  Daily_High  Daily_Low\n",
       "0 2018-05-02          38.76            NaN         NaN        NaN\n",
       "1 2018-04-30          39.33            NaN         NaN        NaN\n",
       "2 2018-04-27          38.81          38.85       38.88      38.85\n",
       "3 2018-04-26          38.75            NaN         NaN        NaN\n",
       "4 2018-04-25          38.10            NaN         NaN        NaN"
      ]
     },
     "execution_count": 26,
     "metadata": {},
     "output_type": "execute_result"
    }
   ],
   "source": [
    "Power_prices = pd.read_excel(\"EEX_baseload_future.xlsx\")\n",
    "Power_prices[\"Date\"] = pd.to_datetime(Power_prices[\"Date\"])\n",
    "Power_prices.head()"
   ]
  },
  {
   "cell_type": "code",
   "execution_count": 27,
   "metadata": {},
   "outputs": [
    {
     "name": "stdout",
     "output_type": "stream",
     "text": [
      "<class 'pandas.core.frame.DataFrame'>\n",
      "RangeIndex: 2570 entries, 0 to 2569\n",
      "Data columns (total 5 columns):\n",
      " #   Column         Non-Null Count  Dtype         \n",
      "---  ------         --------------  -----         \n",
      " 0   Date           2570 non-null   datetime64[ns]\n",
      " 1   Closing_Price  2570 non-null   float64       \n",
      " 2   Opening_Price  2509 non-null   float64       \n",
      " 3   Daily_High     2499 non-null   float64       \n",
      " 4   Daily_Low      2500 non-null   float64       \n",
      "dtypes: datetime64[ns](1), float64(4)\n",
      "memory usage: 100.5 KB\n"
     ]
    }
   ],
   "source": [
    "Power_prices.info()"
   ]
  },
  {
   "cell_type": "code",
   "execution_count": 28,
   "metadata": {},
   "outputs": [],
   "source": [
    "import matplotlib.pyplot as plt"
   ]
  },
  {
   "cell_type": "markdown",
   "metadata": {},
   "source": [
    "Note: For the time being we will work with `Closing_Price` for which there are no missing values"
   ]
  },
  {
   "cell_type": "code",
   "execution_count": 29,
   "metadata": {},
   "outputs": [
    {
     "data": {
      "image/png": "[encoded data removed]",
      "text/plain": [
       "<Figure size 576x288 with 1 Axes>"
      ]
     },
     "metadata": {
      "needs_background": "light"
     },
     "output_type": "display_data"
    }
   ],
   "source": [
    "fig,ax = plt.subplots(figsize=(8,4))\n",
    "\n",
    "ax.plot(Power_prices[\"Date\"],Power_prices[\"Closing_Price\"])\n",
    "ax.set_xlabel(\"Year\")\n",
    "ax.set_ylabel(\"EUR/MWh\")\n",
    "ax.set_title(\"EEX Power Phelix Baseload Year Future\")\n",
    "\n",
    "plt.show()"
   ]
  },
  {
   "cell_type": "markdown",
   "metadata": {},
   "source": [
    "### Indexing time series data"
   ]
  },
  {
   "cell_type": "markdown",
   "metadata": {},
   "source": [
    "Let's suppose we only want to look at one specific year - say 2017. Since Pandas has a build-in datetime functionality we can perform boolean operations on the dates, which allows us to specify the desired interval through masking. In the following we create a new DataFrame for 2017. "
   ]
  },
  {
   "cell_type": "markdown",
   "metadata": {},
   "source": [
    "**Exercise 1**: Create a new DataFrame entitled `Power_prices_17` which contains only values of the year 2017. To do so, define two datetime variables to mark the upper and lower bound of the period you are interested in. Then use pandas masking techniques to index the desired period and assign it to the new DataFrame."
   ]
  },
  {
   "cell_type": "code",
   "execution_count": 30,
   "metadata": {},
   "outputs": [],
   "source": [
    "# YOUR CODE HERE\n",
    "first_date = datetime(year=2017, day=1, month=1)\n",
    "last_date=datetime(year=2017, day=31, month=12)\n",
    "\n",
    "\n",
    "Power_prices_17 = Power_prices[(Power_prices[\"Date\"]>=first_date)&(Power_prices[\"Date\"]<=last_date)]\n"
   ]
  },
  {
   "cell_type": "code",
   "execution_count": 31,
   "metadata": {},
   "outputs": [
    {
     "name": "stderr",
     "output_type": "stream",
     "text": [
      "/Users/martinwohlan/opt/anaconda3/lib/python3.8/site-packages/pandas/util/_decorators.py:311: SettingWithCopyWarning: \n",
      "A value is trying to be set on a copy of a slice from a DataFrame\n",
      "\n",
      "See the caveats in the documentation: https://pandas.pydata.org/pandas-docs/stable/user_guide/indexing.html#returning-a-view-versus-a-copy\n",
      "  return func(*args, **kwargs)\n"
     ]
    }
   ],
   "source": [
    "Power_prices_17.sort_values(by=\"Date\",inplace=True)"
   ]
  },
  {
   "cell_type": "code",
   "execution_count": 32,
   "metadata": {},
   "outputs": [
    {
     "data": {
      "text/html": [
       "<div>\n",
       "<style scoped>\n",
       "    .dataframe tbody tr th:only-of-type {\n",
       "        vertical-align: middle;\n",
       "    }\n",
       "\n",
       "    .dataframe tbody tr th {\n",
       "        vertical-align: top;\n",
       "    }\n",
       "\n",
       "    .dataframe thead th {\n",
       "        text-align: right;\n",
       "    }\n",
       "</style>\n",
       "<table border=\"1\" class=\"dataframe\">\n",
       "  <thead>\n",
       "    <tr style=\"text-align: right;\">\n",
       "      <th></th>\n",
       "      <th>Date</th>\n",
       "      <th>Closing_Price</th>\n",
       "      <th>Opening_Price</th>\n",
       "      <th>Daily_High</th>\n",
       "      <th>Daily_Low</th>\n",
       "    </tr>\n",
       "  </thead>\n",
       "  <tbody>\n",
       "    <tr>\n",
       "      <th>324</th>\n",
       "      <td>2017-01-09</td>\n",
       "      <td>28.42</td>\n",
       "      <td>29.00</td>\n",
       "      <td>29.10</td>\n",
       "      <td>28.15</td>\n",
       "    </tr>\n",
       "    <tr>\n",
       "      <th>323</th>\n",
       "      <td>2017-01-10</td>\n",
       "      <td>29.74</td>\n",
       "      <td>28.90</td>\n",
       "      <td>30.00</td>\n",
       "      <td>28.85</td>\n",
       "    </tr>\n",
       "    <tr>\n",
       "      <th>322</th>\n",
       "      <td>2017-01-11</td>\n",
       "      <td>30.65</td>\n",
       "      <td>30.30</td>\n",
       "      <td>30.90</td>\n",
       "      <td>30.15</td>\n",
       "    </tr>\n",
       "    <tr>\n",
       "      <th>321</th>\n",
       "      <td>2017-01-12</td>\n",
       "      <td>30.41</td>\n",
       "      <td>31.00</td>\n",
       "      <td>31.05</td>\n",
       "      <td>30.20</td>\n",
       "    </tr>\n",
       "    <tr>\n",
       "      <th>320</th>\n",
       "      <td>2017-01-13</td>\n",
       "      <td>30.29</td>\n",
       "      <td>30.05</td>\n",
       "      <td>30.55</td>\n",
       "      <td>29.85</td>\n",
       "    </tr>\n",
       "  </tbody>\n",
       "</table>\n",
       "</div>"
      ],
      "text/plain": [
       "          Date  Closing_Price  Opening_Price  Daily_High  Daily_Low\n",
       "324 2017-01-09          28.42          29.00       29.10      28.15\n",
       "323 2017-01-10          29.74          28.90       30.00      28.85\n",
       "322 2017-01-11          30.65          30.30       30.90      30.15\n",
       "321 2017-01-12          30.41          31.00       31.05      30.20\n",
       "320 2017-01-13          30.29          30.05       30.55      29.85"
      ]
     },
     "execution_count": 32,
     "metadata": {},
     "output_type": "execute_result"
    }
   ],
   "source": [
    "Power_prices_17.head()"
   ]
  },
  {
   "cell_type": "markdown",
   "metadata": {},
   "source": [
    "**Exercise 2**: Plot `Power_prices_17`"
   ]
  },
  {
   "cell_type": "code",
   "execution_count": 33,
   "metadata": {},
   "outputs": [
    {
     "data": {
      "image/png": "[encoded data removed]",
      "text/plain": [
       "<Figure size 576x288 with 1 Axes>"
      ]
     },
     "metadata": {
      "needs_background": "light"
     },
     "output_type": "display_data"
    }
   ],
   "source": [
    "# YOUR CODE HERE\n",
    "\n",
    "fig,ax = plt.subplots(figsize=(8,4))\n",
    "\n",
    "ax.plot(Power_prices_17[\"Date\"],Power_prices_17[\"Closing_Price\"],\"g--\")\n",
    "ax.set_xlabel(\"Year\")\n",
    "ax.set_ylabel(\"EUR/MWh\")\n",
    "ax.set_title(\"EEX Power Phelix Baseload Year Future\")\n",
    "\n",
    "plt.show()\n"
   ]
  },
  {
   "cell_type": "markdown",
   "metadata": {},
   "source": [
    "### Aggregating Time Series Data"
   ]
  },
  {
   "cell_type": "markdown",
   "metadata": {},
   "source": [
    "One common need for time series data is resampling at a higher or lower frequency. This can be done using the `resample()` method, or the much simpler `asfreq()` method. The primary difference between the two is that `resample()` is fundamentally a data aggregation, while `asfreq()` is fundamentally a data selection.\n",
    "Taking a look at the Power closing price, let's compare what the two return when we down-sample the data. Here we will resample the data at the end of a business month (BM). The types of frequency or date offsets that can be selected are shown in the below table. By adding an S suffix, instead of the end of a period, the start is selected."
   ]
  },
  {
   "cell_type": "markdown",
   "metadata": {},
   "source": [
    "| Code   | Description         | Code   | Description          |\n",
    "|--------|---------------------|--------|----------------------|\n",
    "| ``D``  | Calendar day        | ``B``  | Business day         |\n",
    "| ``W``  | Weekly              |        |                      |\n",
    "| ``M``  | Month end           | ``BM`` | Business month end   |\n",
    "| ``Q``  | Quarter end         | ``BQ`` | Business quarter end |\n",
    "| ``A``  | Year end            | ``BA`` | Business year end    |\n",
    "| ``H``  | Hours               | ``BH`` | Business hours       |\n",
    "| ``T``  | Minutes             |        |                      |\n",
    "| ``S``  | Seconds             |        |                      |\n",
    "| ``L``  | Milliseonds         |        |                      |\n",
    "| ``U``  | Microseconds        |        |                      |\n",
    "| ``N``  | nanoseconds         |        |                      |"
   ]
  },
  {
   "cell_type": "code",
   "execution_count": 34,
   "metadata": {},
   "outputs": [
    {
     "data": {
      "text/html": [
       "<div>\n",
       "<style scoped>\n",
       "    .dataframe tbody tr th:only-of-type {\n",
       "        vertical-align: middle;\n",
       "    }\n",
       "\n",
       "    .dataframe tbody tr th {\n",
       "        vertical-align: top;\n",
       "    }\n",
       "\n",
       "    .dataframe thead th {\n",
       "        text-align: right;\n",
       "    }\n",
       "</style>\n",
       "<table border=\"1\" class=\"dataframe\">\n",
       "  <thead>\n",
       "    <tr style=\"text-align: right;\">\n",
       "      <th></th>\n",
       "      <th>Date</th>\n",
       "      <th>Closing_Price</th>\n",
       "      <th>Opening_Price</th>\n",
       "      <th>Daily_High</th>\n",
       "      <th>Daily_Low</th>\n",
       "    </tr>\n",
       "  </thead>\n",
       "  <tbody>\n",
       "    <tr>\n",
       "      <th>0</th>\n",
       "      <td>2018-05-02</td>\n",
       "      <td>38.76</td>\n",
       "      <td>NaN</td>\n",
       "      <td>NaN</td>\n",
       "      <td>NaN</td>\n",
       "    </tr>\n",
       "    <tr>\n",
       "      <th>1</th>\n",
       "      <td>2018-04-30</td>\n",
       "      <td>39.33</td>\n",
       "      <td>NaN</td>\n",
       "      <td>NaN</td>\n",
       "      <td>NaN</td>\n",
       "    </tr>\n",
       "    <tr>\n",
       "      <th>2</th>\n",
       "      <td>2018-04-27</td>\n",
       "      <td>38.81</td>\n",
       "      <td>38.85</td>\n",
       "      <td>38.88</td>\n",
       "      <td>38.85</td>\n",
       "    </tr>\n",
       "    <tr>\n",
       "      <th>3</th>\n",
       "      <td>2018-04-26</td>\n",
       "      <td>38.75</td>\n",
       "      <td>NaN</td>\n",
       "      <td>NaN</td>\n",
       "      <td>NaN</td>\n",
       "    </tr>\n",
       "    <tr>\n",
       "      <th>4</th>\n",
       "      <td>2018-04-25</td>\n",
       "      <td>38.10</td>\n",
       "      <td>NaN</td>\n",
       "      <td>NaN</td>\n",
       "      <td>NaN</td>\n",
       "    </tr>\n",
       "    <tr>\n",
       "      <th>5</th>\n",
       "      <td>2018-04-24</td>\n",
       "      <td>38.08</td>\n",
       "      <td>NaN</td>\n",
       "      <td>NaN</td>\n",
       "      <td>NaN</td>\n",
       "    </tr>\n",
       "    <tr>\n",
       "      <th>6</th>\n",
       "      <td>2018-04-23</td>\n",
       "      <td>38.06</td>\n",
       "      <td>NaN</td>\n",
       "      <td>NaN</td>\n",
       "      <td>NaN</td>\n",
       "    </tr>\n",
       "    <tr>\n",
       "      <th>7</th>\n",
       "      <td>2018-04-20</td>\n",
       "      <td>37.93</td>\n",
       "      <td>38.25</td>\n",
       "      <td>38.25</td>\n",
       "      <td>38.00</td>\n",
       "    </tr>\n",
       "    <tr>\n",
       "      <th>8</th>\n",
       "      <td>2018-04-19</td>\n",
       "      <td>38.70</td>\n",
       "      <td>38.40</td>\n",
       "      <td>38.85</td>\n",
       "      <td>38.40</td>\n",
       "    </tr>\n",
       "    <tr>\n",
       "      <th>9</th>\n",
       "      <td>2018-04-18</td>\n",
       "      <td>38.02</td>\n",
       "      <td>NaN</td>\n",
       "      <td>NaN</td>\n",
       "      <td>NaN</td>\n",
       "    </tr>\n",
       "    <tr>\n",
       "      <th>10</th>\n",
       "      <td>2018-04-17</td>\n",
       "      <td>37.92</td>\n",
       "      <td>NaN</td>\n",
       "      <td>NaN</td>\n",
       "      <td>NaN</td>\n",
       "    </tr>\n",
       "    <tr>\n",
       "      <th>11</th>\n",
       "      <td>2018-04-16</td>\n",
       "      <td>38.81</td>\n",
       "      <td>NaN</td>\n",
       "      <td>NaN</td>\n",
       "      <td>NaN</td>\n",
       "    </tr>\n",
       "    <tr>\n",
       "      <th>12</th>\n",
       "      <td>2018-04-13</td>\n",
       "      <td>38.57</td>\n",
       "      <td>NaN</td>\n",
       "      <td>NaN</td>\n",
       "      <td>NaN</td>\n",
       "    </tr>\n",
       "    <tr>\n",
       "      <th>13</th>\n",
       "      <td>2018-04-12</td>\n",
       "      <td>38.04</td>\n",
       "      <td>NaN</td>\n",
       "      <td>NaN</td>\n",
       "      <td>NaN</td>\n",
       "    </tr>\n",
       "    <tr>\n",
       "      <th>14</th>\n",
       "      <td>2018-04-11</td>\n",
       "      <td>37.90</td>\n",
       "      <td>38.00</td>\n",
       "      <td>38.00</td>\n",
       "      <td>38.00</td>\n",
       "    </tr>\n",
       "    <tr>\n",
       "      <th>15</th>\n",
       "      <td>2018-04-10</td>\n",
       "      <td>37.55</td>\n",
       "      <td>37.50</td>\n",
       "      <td>37.50</td>\n",
       "      <td>37.50</td>\n",
       "    </tr>\n",
       "    <tr>\n",
       "      <th>16</th>\n",
       "      <td>2018-04-09</td>\n",
       "      <td>37.35</td>\n",
       "      <td>37.34</td>\n",
       "      <td>37.44</td>\n",
       "      <td>37.13</td>\n",
       "    </tr>\n",
       "    <tr>\n",
       "      <th>17</th>\n",
       "      <td>2018-04-06</td>\n",
       "      <td>36.62</td>\n",
       "      <td>36.61</td>\n",
       "      <td>36.61</td>\n",
       "      <td>36.61</td>\n",
       "    </tr>\n",
       "    <tr>\n",
       "      <th>18</th>\n",
       "      <td>2018-04-05</td>\n",
       "      <td>36.49</td>\n",
       "      <td>NaN</td>\n",
       "      <td>NaN</td>\n",
       "      <td>NaN</td>\n",
       "    </tr>\n",
       "    <tr>\n",
       "      <th>19</th>\n",
       "      <td>2018-04-04</td>\n",
       "      <td>36.26</td>\n",
       "      <td>36.80</td>\n",
       "      <td>36.80</td>\n",
       "      <td>36.30</td>\n",
       "    </tr>\n",
       "    <tr>\n",
       "      <th>20</th>\n",
       "      <td>2018-04-03</td>\n",
       "      <td>36.53</td>\n",
       "      <td>34.80</td>\n",
       "      <td>34.80</td>\n",
       "      <td>34.80</td>\n",
       "    </tr>\n",
       "    <tr>\n",
       "      <th>21</th>\n",
       "      <td>2018-03-29</td>\n",
       "      <td>36.33</td>\n",
       "      <td>NaN</td>\n",
       "      <td>NaN</td>\n",
       "      <td>NaN</td>\n",
       "    </tr>\n",
       "    <tr>\n",
       "      <th>22</th>\n",
       "      <td>2018-03-28</td>\n",
       "      <td>36.15</td>\n",
       "      <td>36.60</td>\n",
       "      <td>36.60</td>\n",
       "      <td>36.45</td>\n",
       "    </tr>\n",
       "    <tr>\n",
       "      <th>23</th>\n",
       "      <td>2018-03-27</td>\n",
       "      <td>35.95</td>\n",
       "      <td>36.00</td>\n",
       "      <td>36.35</td>\n",
       "      <td>36.00</td>\n",
       "    </tr>\n",
       "    <tr>\n",
       "      <th>24</th>\n",
       "      <td>2018-03-26</td>\n",
       "      <td>35.53</td>\n",
       "      <td>NaN</td>\n",
       "      <td>NaN</td>\n",
       "      <td>NaN</td>\n",
       "    </tr>\n",
       "    <tr>\n",
       "      <th>25</th>\n",
       "      <td>2018-03-23</td>\n",
       "      <td>35.65</td>\n",
       "      <td>NaN</td>\n",
       "      <td>NaN</td>\n",
       "      <td>NaN</td>\n",
       "    </tr>\n",
       "    <tr>\n",
       "      <th>26</th>\n",
       "      <td>2018-03-22</td>\n",
       "      <td>35.55</td>\n",
       "      <td>35.75</td>\n",
       "      <td>35.75</td>\n",
       "      <td>35.51</td>\n",
       "    </tr>\n",
       "    <tr>\n",
       "      <th>27</th>\n",
       "      <td>2018-03-21</td>\n",
       "      <td>35.66</td>\n",
       "      <td>35.45</td>\n",
       "      <td>35.50</td>\n",
       "      <td>35.40</td>\n",
       "    </tr>\n",
       "    <tr>\n",
       "      <th>28</th>\n",
       "      <td>2018-03-20</td>\n",
       "      <td>34.82</td>\n",
       "      <td>34.35</td>\n",
       "      <td>34.95</td>\n",
       "      <td>34.35</td>\n",
       "    </tr>\n",
       "    <tr>\n",
       "      <th>29</th>\n",
       "      <td>2018-03-19</td>\n",
       "      <td>34.13</td>\n",
       "      <td>34.50</td>\n",
       "      <td>34.50</td>\n",
       "      <td>34.15</td>\n",
       "    </tr>\n",
       "    <tr>\n",
       "      <th>30</th>\n",
       "      <td>2018-03-16</td>\n",
       "      <td>34.65</td>\n",
       "      <td>34.79</td>\n",
       "      <td>34.79</td>\n",
       "      <td>34.50</td>\n",
       "    </tr>\n",
       "  </tbody>\n",
       "</table>\n",
       "</div>"
      ],
      "text/plain": [
       "         Date  Closing_Price  Opening_Price  Daily_High  Daily_Low\n",
       "0  2018-05-02          38.76            NaN         NaN        NaN\n",
       "1  2018-04-30          39.33            NaN         NaN        NaN\n",
       "2  2018-04-27          38.81          38.85       38.88      38.85\n",
       "3  2018-04-26          38.75            NaN         NaN        NaN\n",
       "4  2018-04-25          38.10            NaN         NaN        NaN\n",
       "5  2018-04-24          38.08            NaN         NaN        NaN\n",
       "6  2018-04-23          38.06            NaN         NaN        NaN\n",
       "7  2018-04-20          37.93          38.25       38.25      38.00\n",
       "8  2018-04-19          38.70          38.40       38.85      38.40\n",
       "9  2018-04-18          38.02            NaN         NaN        NaN\n",
       "10 2018-04-17          37.92            NaN         NaN        NaN\n",
       "11 2018-04-16          38.81            NaN         NaN        NaN\n",
       "12 2018-04-13          38.57            NaN         NaN        NaN\n",
       "13 2018-04-12          38.04            NaN         NaN        NaN\n",
       "14 2018-04-11          37.90          38.00       38.00      38.00\n",
       "15 2018-04-10          37.55          37.50       37.50      37.50\n",
       "16 2018-04-09          37.35          37.34       37.44      37.13\n",
       "17 2018-04-06          36.62          36.61       36.61      36.61\n",
       "18 2018-04-05          36.49            NaN         NaN        NaN\n",
       "19 2018-04-04          36.26          36.80       36.80      36.30\n",
       "20 2018-04-03          36.53          34.80       34.80      34.80\n",
       "21 2018-03-29          36.33            NaN         NaN        NaN\n",
       "22 2018-03-28          36.15          36.60       36.60      36.45\n",
       "23 2018-03-27          35.95          36.00       36.35      36.00\n",
       "24 2018-03-26          35.53            NaN         NaN        NaN\n",
       "25 2018-03-23          35.65            NaN         NaN        NaN\n",
       "26 2018-03-22          35.55          35.75       35.75      35.51\n",
       "27 2018-03-21          35.66          35.45       35.50      35.40\n",
       "28 2018-03-20          34.82          34.35       34.95      34.35\n",
       "29 2018-03-19          34.13          34.50       34.50      34.15\n",
       "30 2018-03-16          34.65          34.79       34.79      34.50"
      ]
     },
     "execution_count": 34,
     "metadata": {},
     "output_type": "execute_result"
    }
   ],
   "source": [
    "Power_prices.head(31)"
   ]
  },
  {
   "cell_type": "code",
   "execution_count": 35,
   "metadata": {},
   "outputs": [],
   "source": [
    "# for theses techniques to work we need a datetime index\n",
    "Power_prices_index = Power_prices.set_index(\"Date\")"
   ]
  },
  {
   "cell_type": "code",
   "execution_count": 36,
   "metadata": {},
   "outputs": [],
   "source": [
    "#Power_prices_index.head()"
   ]
  },
  {
   "cell_type": "code",
   "execution_count": 37,
   "metadata": {},
   "outputs": [],
   "source": [
    "Power_prices_monthly_resample = Power_prices_index.resample('BM').mean()"
   ]
  },
  {
   "cell_type": "code",
   "execution_count": 38,
   "metadata": {},
   "outputs": [
    {
     "data": {
      "text/html": [
       "<div>\n",
       "<style scoped>\n",
       "    .dataframe tbody tr th:only-of-type {\n",
       "        vertical-align: middle;\n",
       "    }\n",
       "\n",
       "    .dataframe tbody tr th {\n",
       "        vertical-align: top;\n",
       "    }\n",
       "\n",
       "    .dataframe thead th {\n",
       "        text-align: right;\n",
       "    }\n",
       "</style>\n",
       "<table border=\"1\" class=\"dataframe\">\n",
       "  <thead>\n",
       "    <tr style=\"text-align: right;\">\n",
       "      <th></th>\n",
       "      <th>Closing_Price</th>\n",
       "      <th>Opening_Price</th>\n",
       "      <th>Daily_High</th>\n",
       "      <th>Daily_Low</th>\n",
       "    </tr>\n",
       "    <tr>\n",
       "      <th>Date</th>\n",
       "      <th></th>\n",
       "      <th></th>\n",
       "      <th></th>\n",
       "      <th></th>\n",
       "    </tr>\n",
       "  </thead>\n",
       "  <tbody>\n",
       "    <tr>\n",
       "      <th>2008-01-31</th>\n",
       "      <td>61.655455</td>\n",
       "      <td>61.640909</td>\n",
       "      <td>61.870455</td>\n",
       "      <td>61.361364</td>\n",
       "    </tr>\n",
       "    <tr>\n",
       "      <th>2008-02-29</th>\n",
       "      <td>62.757143</td>\n",
       "      <td>62.769048</td>\n",
       "      <td>62.971429</td>\n",
       "      <td>62.593810</td>\n",
       "    </tr>\n",
       "    <tr>\n",
       "      <th>2008-03-31</th>\n",
       "      <td>63.580000</td>\n",
       "      <td>63.657895</td>\n",
       "      <td>63.802632</td>\n",
       "      <td>63.392105</td>\n",
       "    </tr>\n",
       "    <tr>\n",
       "      <th>2008-04-30</th>\n",
       "      <td>65.347273</td>\n",
       "      <td>65.318182</td>\n",
       "      <td>65.479545</td>\n",
       "      <td>65.168182</td>\n",
       "    </tr>\n",
       "    <tr>\n",
       "      <th>2008-05-30</th>\n",
       "      <td>70.893684</td>\n",
       "      <td>70.705263</td>\n",
       "      <td>71.051053</td>\n",
       "      <td>70.515789</td>\n",
       "    </tr>\n",
       "    <tr>\n",
       "      <th>...</th>\n",
       "      <td>...</td>\n",
       "      <td>...</td>\n",
       "      <td>...</td>\n",
       "      <td>...</td>\n",
       "    </tr>\n",
       "    <tr>\n",
       "      <th>2018-01-31</th>\n",
       "      <td>35.410667</td>\n",
       "      <td>35.436000</td>\n",
       "      <td>35.536667</td>\n",
       "      <td>35.286000</td>\n",
       "    </tr>\n",
       "    <tr>\n",
       "      <th>2018-02-28</th>\n",
       "      <td>34.112000</td>\n",
       "      <td>34.028000</td>\n",
       "      <td>34.127895</td>\n",
       "      <td>33.930000</td>\n",
       "    </tr>\n",
       "    <tr>\n",
       "      <th>2018-03-30</th>\n",
       "      <td>34.960476</td>\n",
       "      <td>34.850000</td>\n",
       "      <td>34.992500</td>\n",
       "      <td>34.762500</td>\n",
       "    </tr>\n",
       "    <tr>\n",
       "      <th>2018-04-30</th>\n",
       "      <td>37.891000</td>\n",
       "      <td>37.394444</td>\n",
       "      <td>37.458889</td>\n",
       "      <td>37.287778</td>\n",
       "    </tr>\n",
       "    <tr>\n",
       "      <th>2018-05-31</th>\n",
       "      <td>38.760000</td>\n",
       "      <td>NaN</td>\n",
       "      <td>NaN</td>\n",
       "      <td>NaN</td>\n",
       "    </tr>\n",
       "  </tbody>\n",
       "</table>\n",
       "<p>125 rows × 4 columns</p>\n",
       "</div>"
      ],
      "text/plain": [
       "            Closing_Price  Opening_Price  Daily_High  Daily_Low\n",
       "Date                                                           \n",
       "2008-01-31      61.655455      61.640909   61.870455  61.361364\n",
       "2008-02-29      62.757143      62.769048   62.971429  62.593810\n",
       "2008-03-31      63.580000      63.657895   63.802632  63.392105\n",
       "2008-04-30      65.347273      65.318182   65.479545  65.168182\n",
       "2008-05-30      70.893684      70.705263   71.051053  70.515789\n",
       "...                   ...            ...         ...        ...\n",
       "2018-01-31      35.410667      35.436000   35.536667  35.286000\n",
       "2018-02-28      34.112000      34.028000   34.127895  33.930000\n",
       "2018-03-30      34.960476      34.850000   34.992500  34.762500\n",
       "2018-04-30      37.891000      37.394444   37.458889  37.287778\n",
       "2018-05-31      38.760000            NaN         NaN        NaN\n",
       "\n",
       "[125 rows x 4 columns]"
      ]
     },
     "execution_count": 38,
     "metadata": {},
     "output_type": "execute_result"
    }
   ],
   "source": [
    "Power_prices_monthly_resample"
   ]
  },
  {
   "cell_type": "code",
   "execution_count": 39,
   "metadata": {},
   "outputs": [],
   "source": [
    "# Update: For the .asfreq() command to work properly we need to sort the index first (see below)\n",
    "# We use the ffill method to fill empty values \n",
    "Power_prices_monthly_freq = Power_prices_index.sort_index().asfreq(freq='BM', method=\"ffill\")       "
   ]
  },
  {
   "cell_type": "code",
   "execution_count": 40,
   "metadata": {},
   "outputs": [
    {
     "data": {
      "text/html": [
       "<div>\n",
       "<style scoped>\n",
       "    .dataframe tbody tr th:only-of-type {\n",
       "        vertical-align: middle;\n",
       "    }\n",
       "\n",
       "    .dataframe tbody tr th {\n",
       "        vertical-align: top;\n",
       "    }\n",
       "\n",
       "    .dataframe thead th {\n",
       "        text-align: right;\n",
       "    }\n",
       "</style>\n",
       "<table border=\"1\" class=\"dataframe\">\n",
       "  <thead>\n",
       "    <tr style=\"text-align: right;\">\n",
       "      <th></th>\n",
       "      <th>Closing_Price</th>\n",
       "      <th>Opening_Price</th>\n",
       "      <th>Daily_High</th>\n",
       "      <th>Daily_Low</th>\n",
       "    </tr>\n",
       "    <tr>\n",
       "      <th>Date</th>\n",
       "      <th></th>\n",
       "      <th></th>\n",
       "      <th></th>\n",
       "      <th></th>\n",
       "    </tr>\n",
       "  </thead>\n",
       "  <tbody>\n",
       "    <tr>\n",
       "      <th>2008-01-31</th>\n",
       "      <td>61.10</td>\n",
       "      <td>61.25</td>\n",
       "      <td>61.35</td>\n",
       "      <td>61.00</td>\n",
       "    </tr>\n",
       "    <tr>\n",
       "      <th>2008-02-29</th>\n",
       "      <td>64.85</td>\n",
       "      <td>65.00</td>\n",
       "      <td>65.00</td>\n",
       "      <td>64.85</td>\n",
       "    </tr>\n",
       "    <tr>\n",
       "      <th>2008-03-31</th>\n",
       "      <td>63.58</td>\n",
       "      <td>63.45</td>\n",
       "      <td>63.60</td>\n",
       "      <td>63.45</td>\n",
       "    </tr>\n",
       "    <tr>\n",
       "      <th>2008-04-30</th>\n",
       "      <td>65.80</td>\n",
       "      <td>65.40</td>\n",
       "      <td>65.80</td>\n",
       "      <td>65.40</td>\n",
       "    </tr>\n",
       "    <tr>\n",
       "      <th>2008-05-30</th>\n",
       "      <td>72.66</td>\n",
       "      <td>72.65</td>\n",
       "      <td>72.80</td>\n",
       "      <td>71.75</td>\n",
       "    </tr>\n",
       "    <tr>\n",
       "      <th>...</th>\n",
       "      <td>...</td>\n",
       "      <td>...</td>\n",
       "      <td>...</td>\n",
       "      <td>...</td>\n",
       "    </tr>\n",
       "    <tr>\n",
       "      <th>2017-12-29</th>\n",
       "      <td>37.72</td>\n",
       "      <td>37.65</td>\n",
       "      <td>37.75</td>\n",
       "      <td>37.65</td>\n",
       "    </tr>\n",
       "    <tr>\n",
       "      <th>2018-01-31</th>\n",
       "      <td>34.46</td>\n",
       "      <td>34.50</td>\n",
       "      <td>34.65</td>\n",
       "      <td>34.35</td>\n",
       "    </tr>\n",
       "    <tr>\n",
       "      <th>2018-02-28</th>\n",
       "      <td>34.10</td>\n",
       "      <td>34.20</td>\n",
       "      <td>34.20</td>\n",
       "      <td>34.05</td>\n",
       "    </tr>\n",
       "    <tr>\n",
       "      <th>2018-03-30</th>\n",
       "      <td>36.33</td>\n",
       "      <td>NaN</td>\n",
       "      <td>NaN</td>\n",
       "      <td>NaN</td>\n",
       "    </tr>\n",
       "    <tr>\n",
       "      <th>2018-04-30</th>\n",
       "      <td>39.33</td>\n",
       "      <td>NaN</td>\n",
       "      <td>NaN</td>\n",
       "      <td>NaN</td>\n",
       "    </tr>\n",
       "  </tbody>\n",
       "</table>\n",
       "<p>124 rows × 4 columns</p>\n",
       "</div>"
      ],
      "text/plain": [
       "            Closing_Price  Opening_Price  Daily_High  Daily_Low\n",
       "Date                                                           \n",
       "2008-01-31          61.10          61.25       61.35      61.00\n",
       "2008-02-29          64.85          65.00       65.00      64.85\n",
       "2008-03-31          63.58          63.45       63.60      63.45\n",
       "2008-04-30          65.80          65.40       65.80      65.40\n",
       "2008-05-30          72.66          72.65       72.80      71.75\n",
       "...                   ...            ...         ...        ...\n",
       "2017-12-29          37.72          37.65       37.75      37.65\n",
       "2018-01-31          34.46          34.50       34.65      34.35\n",
       "2018-02-28          34.10          34.20       34.20      34.05\n",
       "2018-03-30          36.33            NaN         NaN        NaN\n",
       "2018-04-30          39.33            NaN         NaN        NaN\n",
       "\n",
       "[124 rows x 4 columns]"
      ]
     },
     "execution_count": 40,
     "metadata": {},
     "output_type": "execute_result"
    }
   ],
   "source": [
    "Power_prices_monthly_freq"
   ]
  },
  {
   "cell_type": "markdown",
   "metadata": {},
   "source": [
    "Notice the difference: at each point, resample reports the average of the previous month (BM), while asfreq reports the value at the end of each month."
   ]
  },
  {
   "cell_type": "code",
   "execution_count": 41,
   "metadata": {},
   "outputs": [
    {
     "data": {
      "image/png": "[encoded data removed]",
      "text/plain": [
       "<Figure size 1152x648 with 1 Axes>"
      ]
     },
     "metadata": {
      "needs_background": "light"
     },
     "output_type": "display_data"
    }
   ],
   "source": [
    "fig,ax = plt.subplots(figsize=(16,9))\n",
    "\n",
    "ax.plot(Power_prices_index[\"Closing_Price\"]) #daily\n",
    "ax.plot(Power_prices_monthly_resample[\"Closing_Price\"]) #monthly resampling\n",
    "ax.plot(Power_prices_monthly_freq[\"Closing_Price\"], \"-.\") #monthly freq approach\n",
    "ax.set_xlabel(\"Year\")\n",
    "ax.set_ylabel(\"EUR/MWh\")\n",
    "ax.set_title(\"EEX Power Phelix Baseload Year Future\")\n",
    "\n",
    "plt.show()"
   ]
  },
  {
   "cell_type": "markdown",
   "metadata": {},
   "source": [
    "**Exercise**: Resample for a business year and plot the results for `Closing_Price`. What do you get?"
   ]
  },
  {
   "cell_type": "code",
   "execution_count": 42,
   "metadata": {},
   "outputs": [
    {
     "data": {
      "image/png": "[encoded data removed]",
      "text/plain": [
       "<Figure size 640x320 with 1 Axes>"
      ]
     },
     "metadata": {
      "needs_background": "light"
     },
     "output_type": "display_data"
    }
   ],
   "source": [
    "# YOUR CODE HERE\n",
    "\n",
    "#EX3\n",
    "# create data frame\n",
    "\n",
    "Power_prices_yearly_resample= Power_prices_index.resample('BA').mean()\n",
    "Power_prices_yearly_freq = Power_prices_index.sort_index().asfreq(freq='BA', method=\"ffill\")\n",
    "\n",
    "\n",
    "# plot\n",
    "fig,ax = plt.subplots(figsize=(8,4), dpi= 80)\n",
    "\n",
    "ax.plot(Power_prices_yearly_resample[\"Daily_Low\"])\n",
    "ax.plot(Power_prices_yearly_freq[\"Daily_Low\"], \"-.\")\n",
    "ax.set_xlabel(\"Year\")\n",
    "ax.set_ylabel(\"EUR/MWh\")\n",
    "ax.set_title(\"EEX Power Phelix Baseload Year Future\")\n",
    "\n",
    "plt.show()"
   ]
  },
  {
   "cell_type": "markdown",
   "metadata": {},
   "source": [
    "### Missing Data in Time Series"
   ]
  },
  {
   "cell_type": "markdown",
   "metadata": {},
   "source": [
    "Various methods exist for time series imputation. Below is an overview\n",
    "\n",
    "**Non-time-series specific method**\n",
    "- mean imputation\n",
    "- median imputation\n",
    "- mode imputation\n",
    "- ...\n",
    "\n",
    "**Time-series specific method**\n",
    "- Last observation carried forward (LOCF)\n",
    "- Next observation carried backward (NOCB)\n",
    "- Linear interpolation\n",
    "- Spline interpolation\n",
    "\n",
    "For reasons of time we will look here at mean and median imputation as well as LOCF (`ffill()`) and NOCB (`bfill()`).\n"
   ]
  },
  {
   "cell_type": "code",
   "execution_count": 43,
   "metadata": {},
   "outputs": [
    {
     "name": "stdout",
     "output_type": "stream",
     "text": [
      "<class 'pandas.core.frame.DataFrame'>\n",
      "RangeIndex: 2570 entries, 0 to 2569\n",
      "Data columns (total 5 columns):\n",
      " #   Column         Non-Null Count  Dtype         \n",
      "---  ------         --------------  -----         \n",
      " 0   Date           2570 non-null   datetime64[ns]\n",
      " 1   Closing_Price  2570 non-null   float64       \n",
      " 2   Opening_Price  2509 non-null   float64       \n",
      " 3   Daily_High     2499 non-null   float64       \n",
      " 4   Daily_Low      2500 non-null   float64       \n",
      "dtypes: datetime64[ns](1), float64(4)\n",
      "memory usage: 100.5 KB\n"
     ]
    }
   ],
   "source": [
    "Power_prices.info()"
   ]
  },
  {
   "cell_type": "code",
   "execution_count": 44,
   "metadata": {},
   "outputs": [
    {
     "data": {
      "text/plain": [
       "0       38.85\n",
       "1       38.85\n",
       "2       38.85\n",
       "3       38.25\n",
       "4       38.25\n",
       "        ...  \n",
       "2565    63.00\n",
       "2566    62.30\n",
       "2567    62.30\n",
       "2568    62.50\n",
       "2569    61.55\n",
       "Name: Opening_Price, Length: 2570, dtype: float64"
      ]
     },
     "execution_count": 44,
     "metadata": {},
     "output_type": "execute_result"
    }
   ],
   "source": [
    "# fill mean\n",
    "Power_prices[\"Opening_Price\"].fillna(Power_prices[\"Opening_Price\"].mean())\n",
    "\n",
    "# fill median\n",
    "Power_prices[\"Opening_Price\"].fillna(Power_prices[\"Opening_Price\"].median())\n",
    "\n",
    "# forward fill (LOCF)\n",
    "Power_prices[\"Opening_Price\"].fillna(method=\"ffill\")\n",
    "\n",
    "# backward fill (NOCB) \n",
    "Power_prices[\"Opening_Price\"].fillna(method=\"bfill\")"
   ]
  },
  {
   "cell_type": "markdown",
   "metadata": {},
   "source": [
    "**Exercise**: Create a new DataFrame entitled `Power_prices_clean` where you fill all missing values using the forward fill method."
   ]
  },
  {
   "cell_type": "code",
   "execution_count": 45,
   "metadata": {},
   "outputs": [],
   "source": [
    "# YOUR CODE HERE\n",
    "\n",
    "Power_prices_clean = Power_prices.fillna(method=\"ffill\")\n"
   ]
  },
  {
   "cell_type": "code",
   "execution_count": 46,
   "metadata": {},
   "outputs": [
    {
     "name": "stdout",
     "output_type": "stream",
     "text": [
      "<class 'pandas.core.frame.DataFrame'>\n",
      "RangeIndex: 2570 entries, 0 to 2569\n",
      "Data columns (total 5 columns):\n",
      " #   Column         Non-Null Count  Dtype         \n",
      "---  ------         --------------  -----         \n",
      " 0   Date           2570 non-null   datetime64[ns]\n",
      " 1   Closing_Price  2570 non-null   float64       \n",
      " 2   Opening_Price  2568 non-null   float64       \n",
      " 3   Daily_High     2568 non-null   float64       \n",
      " 4   Daily_Low      2568 non-null   float64       \n",
      "dtypes: datetime64[ns](1), float64(4)\n",
      "memory usage: 100.5 KB\n"
     ]
    }
   ],
   "source": [
    "Power_prices_clean.info()"
   ]
  },
  {
   "cell_type": "code",
   "execution_count": 47,
   "metadata": {},
   "outputs": [
    {
     "data": {
      "text/html": [
       "<div>\n",
       "<style scoped>\n",
       "    .dataframe tbody tr th:only-of-type {\n",
       "        vertical-align: middle;\n",
       "    }\n",
       "\n",
       "    .dataframe tbody tr th {\n",
       "        vertical-align: top;\n",
       "    }\n",
       "\n",
       "    .dataframe thead th {\n",
       "        text-align: right;\n",
       "    }\n",
       "</style>\n",
       "<table border=\"1\" class=\"dataframe\">\n",
       "  <thead>\n",
       "    <tr style=\"text-align: right;\">\n",
       "      <th></th>\n",
       "      <th>Date</th>\n",
       "      <th>Closing_Price</th>\n",
       "      <th>Opening_Price</th>\n",
       "      <th>Daily_High</th>\n",
       "      <th>Daily_Low</th>\n",
       "    </tr>\n",
       "  </thead>\n",
       "  <tbody>\n",
       "    <tr>\n",
       "      <th>0</th>\n",
       "      <td>2018-05-02</td>\n",
       "      <td>38.76</td>\n",
       "      <td>NaN</td>\n",
       "      <td>NaN</td>\n",
       "      <td>NaN</td>\n",
       "    </tr>\n",
       "    <tr>\n",
       "      <th>1</th>\n",
       "      <td>2018-04-30</td>\n",
       "      <td>39.33</td>\n",
       "      <td>NaN</td>\n",
       "      <td>NaN</td>\n",
       "      <td>NaN</td>\n",
       "    </tr>\n",
       "    <tr>\n",
       "      <th>2</th>\n",
       "      <td>2018-04-27</td>\n",
       "      <td>38.81</td>\n",
       "      <td>38.85</td>\n",
       "      <td>38.88</td>\n",
       "      <td>38.85</td>\n",
       "    </tr>\n",
       "    <tr>\n",
       "      <th>3</th>\n",
       "      <td>2018-04-26</td>\n",
       "      <td>38.75</td>\n",
       "      <td>NaN</td>\n",
       "      <td>NaN</td>\n",
       "      <td>NaN</td>\n",
       "    </tr>\n",
       "    <tr>\n",
       "      <th>4</th>\n",
       "      <td>2018-04-25</td>\n",
       "      <td>38.10</td>\n",
       "      <td>NaN</td>\n",
       "      <td>NaN</td>\n",
       "      <td>NaN</td>\n",
       "    </tr>\n",
       "  </tbody>\n",
       "</table>\n",
       "</div>"
      ],
      "text/plain": [
       "        Date  Closing_Price  Opening_Price  Daily_High  Daily_Low\n",
       "0 2018-05-02          38.76            NaN         NaN        NaN\n",
       "1 2018-04-30          39.33            NaN         NaN        NaN\n",
       "2 2018-04-27          38.81          38.85       38.88      38.85\n",
       "3 2018-04-26          38.75            NaN         NaN        NaN\n",
       "4 2018-04-25          38.10            NaN         NaN        NaN"
      ]
     },
     "execution_count": 47,
     "metadata": {},
     "output_type": "execute_result"
    }
   ],
   "source": [
    "Power_prices.head()"
   ]
  },
  {
   "cell_type": "code",
   "execution_count": 48,
   "metadata": {},
   "outputs": [
    {
     "data": {
      "text/html": [
       "<div>\n",
       "<style scoped>\n",
       "    .dataframe tbody tr th:only-of-type {\n",
       "        vertical-align: middle;\n",
       "    }\n",
       "\n",
       "    .dataframe tbody tr th {\n",
       "        vertical-align: top;\n",
       "    }\n",
       "\n",
       "    .dataframe thead th {\n",
       "        text-align: right;\n",
       "    }\n",
       "</style>\n",
       "<table border=\"1\" class=\"dataframe\">\n",
       "  <thead>\n",
       "    <tr style=\"text-align: right;\">\n",
       "      <th></th>\n",
       "      <th>Date</th>\n",
       "      <th>Closing_Price</th>\n",
       "      <th>Opening_Price</th>\n",
       "      <th>Daily_High</th>\n",
       "      <th>Daily_Low</th>\n",
       "    </tr>\n",
       "  </thead>\n",
       "  <tbody>\n",
       "    <tr>\n",
       "      <th>0</th>\n",
       "      <td>2018-05-02</td>\n",
       "      <td>38.76</td>\n",
       "      <td>NaN</td>\n",
       "      <td>NaN</td>\n",
       "      <td>NaN</td>\n",
       "    </tr>\n",
       "    <tr>\n",
       "      <th>1</th>\n",
       "      <td>2018-04-30</td>\n",
       "      <td>39.33</td>\n",
       "      <td>NaN</td>\n",
       "      <td>NaN</td>\n",
       "      <td>NaN</td>\n",
       "    </tr>\n",
       "    <tr>\n",
       "      <th>2</th>\n",
       "      <td>2018-04-27</td>\n",
       "      <td>38.81</td>\n",
       "      <td>38.85</td>\n",
       "      <td>38.88</td>\n",
       "      <td>38.85</td>\n",
       "    </tr>\n",
       "    <tr>\n",
       "      <th>3</th>\n",
       "      <td>2018-04-26</td>\n",
       "      <td>38.75</td>\n",
       "      <td>38.85</td>\n",
       "      <td>38.88</td>\n",
       "      <td>38.85</td>\n",
       "    </tr>\n",
       "    <tr>\n",
       "      <th>4</th>\n",
       "      <td>2018-04-25</td>\n",
       "      <td>38.10</td>\n",
       "      <td>38.85</td>\n",
       "      <td>38.88</td>\n",
       "      <td>38.85</td>\n",
       "    </tr>\n",
       "  </tbody>\n",
       "</table>\n",
       "</div>"
      ],
      "text/plain": [
       "        Date  Closing_Price  Opening_Price  Daily_High  Daily_Low\n",
       "0 2018-05-02          38.76            NaN         NaN        NaN\n",
       "1 2018-04-30          39.33            NaN         NaN        NaN\n",
       "2 2018-04-27          38.81          38.85       38.88      38.85\n",
       "3 2018-04-26          38.75          38.85       38.88      38.85\n",
       "4 2018-04-25          38.10          38.85       38.88      38.85"
      ]
     },
     "execution_count": 48,
     "metadata": {},
     "output_type": "execute_result"
    }
   ],
   "source": [
    "Power_prices_clean.head()"
   ]
  },
  {
   "cell_type": "markdown",
   "metadata": {},
   "source": [
    "**Note**: For more sophisticated filling methods have a look at the built-in Pandas `interpolate()` function"
   ]
  },
  {
   "cell_type": "markdown",
   "metadata": {},
   "source": [
    "### Temporal Feature Extraction"
   ]
  },
  {
   "cell_type": "markdown",
   "metadata": {},
   "source": [
    "Suppose we wish to extract some temporal features for use in a machine learning model. This may be the case if time carries significant explenatory value for the dependent variable, as is the case in many real-world settings.\n",
    "\n",
    "For illustrative pruposes let us stick with our price dataset. Suppose price is a function of the type of day, i.e. whether it is a Monday or a Friday. Let us extract a temporal feature set that carries this information."
   ]
  },
  {
   "cell_type": "code",
   "execution_count": 49,
   "metadata": {},
   "outputs": [],
   "source": [
    "Power_prices[\"Day_of_Week\"] = Power_prices[\"Date\"].apply(lambda x: x.weekday())"
   ]
  },
  {
   "cell_type": "code",
   "execution_count": 57,
   "metadata": {},
   "outputs": [
    {
     "data": {
      "text/html": [
       "<div>\n",
       "<style scoped>\n",
       "    .dataframe tbody tr th:only-of-type {\n",
       "        vertical-align: middle;\n",
       "    }\n",
       "\n",
       "    .dataframe tbody tr th {\n",
       "        vertical-align: top;\n",
       "    }\n",
       "\n",
       "    .dataframe thead th {\n",
       "        text-align: right;\n",
       "    }\n",
       "</style>\n",
       "<table border=\"1\" class=\"dataframe\">\n",
       "  <thead>\n",
       "    <tr style=\"text-align: right;\">\n",
       "      <th></th>\n",
       "      <th>Date</th>\n",
       "      <th>Closing_Price</th>\n",
       "      <th>Opening_Price</th>\n",
       "      <th>Daily_High</th>\n",
       "      <th>Daily_Low</th>\n",
       "      <th>Day_of_Week</th>\n",
       "      <th>Day__1</th>\n",
       "      <th>Day__2</th>\n",
       "      <th>Day__3</th>\n",
       "      <th>Day__4</th>\n",
       "    </tr>\n",
       "  </thead>\n",
       "  <tbody>\n",
       "    <tr>\n",
       "      <th>2569</th>\n",
       "      <td>2008-01-02</td>\n",
       "      <td>61.85</td>\n",
       "      <td>61.55</td>\n",
       "      <td>61.60</td>\n",
       "      <td>61.55</td>\n",
       "      <td>2</td>\n",
       "      <td>0</td>\n",
       "      <td>1</td>\n",
       "      <td>0</td>\n",
       "      <td>0</td>\n",
       "    </tr>\n",
       "    <tr>\n",
       "      <th>2568</th>\n",
       "      <td>2008-01-03</td>\n",
       "      <td>62.50</td>\n",
       "      <td>62.50</td>\n",
       "      <td>62.50</td>\n",
       "      <td>62.40</td>\n",
       "      <td>3</td>\n",
       "      <td>0</td>\n",
       "      <td>0</td>\n",
       "      <td>1</td>\n",
       "      <td>0</td>\n",
       "    </tr>\n",
       "    <tr>\n",
       "      <th>2567</th>\n",
       "      <td>2008-01-04</td>\n",
       "      <td>62.60</td>\n",
       "      <td>62.30</td>\n",
       "      <td>62.70</td>\n",
       "      <td>62.30</td>\n",
       "      <td>4</td>\n",
       "      <td>0</td>\n",
       "      <td>0</td>\n",
       "      <td>0</td>\n",
       "      <td>1</td>\n",
       "    </tr>\n",
       "    <tr>\n",
       "      <th>2566</th>\n",
       "      <td>2008-01-07</td>\n",
       "      <td>62.95</td>\n",
       "      <td>62.30</td>\n",
       "      <td>63.15</td>\n",
       "      <td>62.30</td>\n",
       "      <td>0</td>\n",
       "      <td>0</td>\n",
       "      <td>0</td>\n",
       "      <td>0</td>\n",
       "      <td>0</td>\n",
       "    </tr>\n",
       "    <tr>\n",
       "      <th>2565</th>\n",
       "      <td>2008-01-08</td>\n",
       "      <td>63.25</td>\n",
       "      <td>63.00</td>\n",
       "      <td>63.25</td>\n",
       "      <td>62.90</td>\n",
       "      <td>1</td>\n",
       "      <td>1</td>\n",
       "      <td>0</td>\n",
       "      <td>0</td>\n",
       "      <td>0</td>\n",
       "    </tr>\n",
       "  </tbody>\n",
       "</table>\n",
       "</div>"
      ],
      "text/plain": [
       "           Date  Closing_Price  Opening_Price  Daily_High  Daily_Low  \\\n",
       "2569 2008-01-02          61.85          61.55       61.60      61.55   \n",
       "2568 2008-01-03          62.50          62.50       62.50      62.40   \n",
       "2567 2008-01-04          62.60          62.30       62.70      62.30   \n",
       "2566 2008-01-07          62.95          62.30       63.15      62.30   \n",
       "2565 2008-01-08          63.25          63.00       63.25      62.90   \n",
       "\n",
       "      Day_of_Week  Day__1  Day__2  Day__3  Day__4  \n",
       "2569            2       0       1       0       0  \n",
       "2568            3       0       0       1       0  \n",
       "2567            4       0       0       0       1  \n",
       "2566            0       0       0       0       0  \n",
       "2565            1       1       0       0       0  "
      ]
     },
     "execution_count": 57,
     "metadata": {},
     "output_type": "execute_result"
    }
   ],
   "source": [
    "Power_prices.sort_values(by=\"Date\", inplace=True)\n",
    "Power_prices.head()"
   ]
  },
  {
   "cell_type": "markdown",
   "metadata": {},
   "source": [
    "**Question**: What type of data is the `Day_of_week` feature? Ordinal, nominal, an interval or a ratio? Can it be used like this in a regression model? Why?"
   ]
  },
  {
   "cell_type": "code",
   "execution_count": 51,
   "metadata": {},
   "outputs": [],
   "source": [
    "# Your answer here\n",
    "# --> nominal. We need to one-hot-encode it!"
   ]
  },
  {
   "cell_type": "markdown",
   "metadata": {},
   "source": [
    "To get the `Day_of_week` feature into a format which is usable in regression models we use a technique which is often referred to as one-hot-encoding. In essence we use a binary encoding to identify the type of day. "
   ]
  },
  {
   "cell_type": "code",
   "execution_count": 52,
   "metadata": {},
   "outputs": [],
   "source": [
    "# Get dummies for Day_of_week feature\n",
    "\n",
    "days = pd.get_dummies(Power_prices[\"Day_of_Week\"],prefix=\"Day_\",drop_first=True)"
   ]
  },
  {
   "cell_type": "code",
   "execution_count": 53,
   "metadata": {},
   "outputs": [
    {
     "data": {
      "text/html": [
       "<div>\n",
       "<style scoped>\n",
       "    .dataframe tbody tr th:only-of-type {\n",
       "        vertical-align: middle;\n",
       "    }\n",
       "\n",
       "    .dataframe tbody tr th {\n",
       "        vertical-align: top;\n",
       "    }\n",
       "\n",
       "    .dataframe thead th {\n",
       "        text-align: right;\n",
       "    }\n",
       "</style>\n",
       "<table border=\"1\" class=\"dataframe\">\n",
       "  <thead>\n",
       "    <tr style=\"text-align: right;\">\n",
       "      <th></th>\n",
       "      <th>Day__1</th>\n",
       "      <th>Day__2</th>\n",
       "      <th>Day__3</th>\n",
       "      <th>Day__4</th>\n",
       "    </tr>\n",
       "  </thead>\n",
       "  <tbody>\n",
       "    <tr>\n",
       "      <th>2569</th>\n",
       "      <td>0</td>\n",
       "      <td>1</td>\n",
       "      <td>0</td>\n",
       "      <td>0</td>\n",
       "    </tr>\n",
       "    <tr>\n",
       "      <th>2568</th>\n",
       "      <td>0</td>\n",
       "      <td>0</td>\n",
       "      <td>1</td>\n",
       "      <td>0</td>\n",
       "    </tr>\n",
       "    <tr>\n",
       "      <th>2567</th>\n",
       "      <td>0</td>\n",
       "      <td>0</td>\n",
       "      <td>0</td>\n",
       "      <td>1</td>\n",
       "    </tr>\n",
       "    <tr>\n",
       "      <th>2566</th>\n",
       "      <td>0</td>\n",
       "      <td>0</td>\n",
       "      <td>0</td>\n",
       "      <td>0</td>\n",
       "    </tr>\n",
       "    <tr>\n",
       "      <th>2565</th>\n",
       "      <td>1</td>\n",
       "      <td>0</td>\n",
       "      <td>0</td>\n",
       "      <td>0</td>\n",
       "    </tr>\n",
       "  </tbody>\n",
       "</table>\n",
       "</div>"
      ],
      "text/plain": [
       "      Day__1  Day__2  Day__3  Day__4\n",
       "2569       0       1       0       0\n",
       "2568       0       0       1       0\n",
       "2567       0       0       0       1\n",
       "2566       0       0       0       0\n",
       "2565       1       0       0       0"
      ]
     },
     "execution_count": 53,
     "metadata": {},
     "output_type": "execute_result"
    }
   ],
   "source": [
    "days.head(5)"
   ]
  },
  {
   "cell_type": "code",
   "execution_count": 54,
   "metadata": {},
   "outputs": [],
   "source": [
    "# and merge it with the original DF\n",
    "\n",
    "Power_prices[list(days.columns)] = days"
   ]
  },
  {
   "cell_type": "code",
   "execution_count": 55,
   "metadata": {},
   "outputs": [
    {
     "data": {
      "text/html": [
       "<div>\n",
       "<style scoped>\n",
       "    .dataframe tbody tr th:only-of-type {\n",
       "        vertical-align: middle;\n",
       "    }\n",
       "\n",
       "    .dataframe tbody tr th {\n",
       "        vertical-align: top;\n",
       "    }\n",
       "\n",
       "    .dataframe thead th {\n",
       "        text-align: right;\n",
       "    }\n",
       "</style>\n",
       "<table border=\"1\" class=\"dataframe\">\n",
       "  <thead>\n",
       "    <tr style=\"text-align: right;\">\n",
       "      <th></th>\n",
       "      <th>Date</th>\n",
       "      <th>Closing_Price</th>\n",
       "      <th>Opening_Price</th>\n",
       "      <th>Daily_High</th>\n",
       "      <th>Daily_Low</th>\n",
       "      <th>Day_of_Week</th>\n",
       "      <th>Day__1</th>\n",
       "      <th>Day__2</th>\n",
       "      <th>Day__3</th>\n",
       "      <th>Day__4</th>\n",
       "    </tr>\n",
       "  </thead>\n",
       "  <tbody>\n",
       "    <tr>\n",
       "      <th>2569</th>\n",
       "      <td>2008-01-02</td>\n",
       "      <td>61.85</td>\n",
       "      <td>61.55</td>\n",
       "      <td>61.60</td>\n",
       "      <td>61.55</td>\n",
       "      <td>2</td>\n",
       "      <td>0</td>\n",
       "      <td>1</td>\n",
       "      <td>0</td>\n",
       "      <td>0</td>\n",
       "    </tr>\n",
       "    <tr>\n",
       "      <th>2568</th>\n",
       "      <td>2008-01-03</td>\n",
       "      <td>62.50</td>\n",
       "      <td>62.50</td>\n",
       "      <td>62.50</td>\n",
       "      <td>62.40</td>\n",
       "      <td>3</td>\n",
       "      <td>0</td>\n",
       "      <td>0</td>\n",
       "      <td>1</td>\n",
       "      <td>0</td>\n",
       "    </tr>\n",
       "    <tr>\n",
       "      <th>2567</th>\n",
       "      <td>2008-01-04</td>\n",
       "      <td>62.60</td>\n",
       "      <td>62.30</td>\n",
       "      <td>62.70</td>\n",
       "      <td>62.30</td>\n",
       "      <td>4</td>\n",
       "      <td>0</td>\n",
       "      <td>0</td>\n",
       "      <td>0</td>\n",
       "      <td>1</td>\n",
       "    </tr>\n",
       "    <tr>\n",
       "      <th>2566</th>\n",
       "      <td>2008-01-07</td>\n",
       "      <td>62.95</td>\n",
       "      <td>62.30</td>\n",
       "      <td>63.15</td>\n",
       "      <td>62.30</td>\n",
       "      <td>0</td>\n",
       "      <td>0</td>\n",
       "      <td>0</td>\n",
       "      <td>0</td>\n",
       "      <td>0</td>\n",
       "    </tr>\n",
       "    <tr>\n",
       "      <th>2565</th>\n",
       "      <td>2008-01-08</td>\n",
       "      <td>63.25</td>\n",
       "      <td>63.00</td>\n",
       "      <td>63.25</td>\n",
       "      <td>62.90</td>\n",
       "      <td>1</td>\n",
       "      <td>1</td>\n",
       "      <td>0</td>\n",
       "      <td>0</td>\n",
       "      <td>0</td>\n",
       "    </tr>\n",
       "  </tbody>\n",
       "</table>\n",
       "</div>"
      ],
      "text/plain": [
       "           Date  Closing_Price  Opening_Price  Daily_High  Daily_Low  \\\n",
       "2569 2008-01-02          61.85          61.55       61.60      61.55   \n",
       "2568 2008-01-03          62.50          62.50       62.50      62.40   \n",
       "2567 2008-01-04          62.60          62.30       62.70      62.30   \n",
       "2566 2008-01-07          62.95          62.30       63.15      62.30   \n",
       "2565 2008-01-08          63.25          63.00       63.25      62.90   \n",
       "\n",
       "      Day_of_Week  Day__1  Day__2  Day__3  Day__4  \n",
       "2569            2       0       1       0       0  \n",
       "2568            3       0       0       1       0  \n",
       "2567            4       0       0       0       1  \n",
       "2566            0       0       0       0       0  \n",
       "2565            1       1       0       0       0  "
      ]
     },
     "execution_count": 55,
     "metadata": {},
     "output_type": "execute_result"
    }
   ],
   "source": [
    "Power_prices.head()"
   ]
  },
  {
   "cell_type": "markdown",
   "metadata": {},
   "source": [
    "Other typically used temporal features iclude:\n",
    "- hour-of-day\n",
    "- weekday y/n\n",
    "- bank holiday y/n\n",
    "- school holidays y/n\n",
    "- lagged time features (e.g. dependent variable 24h ago)"
   ]
  },
  {
   "cell_type": "markdown",
   "metadata": {},
   "source": [
    "---"
   ]
  }
 ],
 "metadata": {
  "kernelspec": {
   "display_name": "Python 3",
   "language": "python",
   "name": "python3"
  },
  "language_info": {
   "codemirror_mode": {
    "name": "ipython",
    "version": 3
   },
   "file_extension": ".py",
   "mimetype": "text/x-python",
   "name": "python",
   "nbconvert_exporter": "python",
   "pygments_lexer": "ipython3",
   "version": "3.8.10"
  }
 },
 "nbformat": 4,
 "nbformat_minor": 4
}
